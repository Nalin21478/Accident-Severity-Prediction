{
 "cells": [
  {
   "cell_type": "code",
   "execution_count": 1,
   "id": "6085e155",
   "metadata": {
    "_cell_guid": "b1076dfc-b9ad-4769-8c92-a6c4dae69d19",
    "_uuid": "8f2839f25d086af736a60e9eeb907d3b93b6e0e5",
    "execution": {
     "iopub.execute_input": "2023-12-08T16:21:52.989729Z",
     "iopub.status.busy": "2023-12-08T16:21:52.988567Z",
     "iopub.status.idle": "2023-12-08T16:21:53.807996Z",
     "shell.execute_reply": "2023-12-08T16:21:53.807092Z"
    },
    "papermill": {
     "duration": 0.829376,
     "end_time": "2023-12-08T16:21:53.810791",
     "exception": false,
     "start_time": "2023-12-08T16:21:52.981415",
     "status": "completed"
    },
    "tags": []
   },
   "outputs": [],
   "source": [
    "\n",
    "import pandas as pd\n",
    "df=pd.read_csv(\"/kaggle/input/pipeline-data/shuffled_data_for_pipeline\")"
   ]
  },
  {
   "cell_type": "code",
   "execution_count": 2,
   "id": "10cf2bf2",
   "metadata": {
    "execution": {
     "iopub.execute_input": "2023-12-08T16:21:53.822078Z",
     "iopub.status.busy": "2023-12-08T16:21:53.821626Z",
     "iopub.status.idle": "2023-12-08T16:21:53.830300Z",
     "shell.execute_reply": "2023-12-08T16:21:53.828977Z"
    },
    "papermill": {
     "duration": 0.017645,
     "end_time": "2023-12-08T16:21:53.833440",
     "exception": false,
     "start_time": "2023-12-08T16:21:53.815795",
     "status": "completed"
    },
    "tags": []
   },
   "outputs": [
    {
     "data": {
      "text/plain": [
       "Index(['Unnamed: 0', 'Distance(mi)', 'State', 'Temperature(F)',\n",
       "       'Wind_Chill(F)', 'Humidity(%)', 'Pressure(in)', 'Visibility(mi)',\n",
       "       'Wind_Direction', 'Wind_Speed(mph)', 'Precipitation(in)',\n",
       "       'Weather_Condition', 'Crossing', 'Junction', 'Traffic_Signal',\n",
       "       'Sunrise_Sunset', 'Year', 'Month', 'Day', 'Hour', 'Day_of_Week',\n",
       "       'Day_Type', 'Season', 'Time_Of_Day', 'Duration', 'Severity'],\n",
       "      dtype='object')"
      ]
     },
     "execution_count": 2,
     "metadata": {},
     "output_type": "execute_result"
    }
   ],
   "source": [
    "df.columns"
   ]
  },
  {
   "cell_type": "code",
   "execution_count": 3,
   "id": "0a3fd1ad",
   "metadata": {
    "execution": {
     "iopub.execute_input": "2023-12-08T16:21:53.844438Z",
     "iopub.status.busy": "2023-12-08T16:21:53.844022Z",
     "iopub.status.idle": "2023-12-08T16:21:53.871586Z",
     "shell.execute_reply": "2023-12-08T16:21:53.870563Z"
    },
    "papermill": {
     "duration": 0.035976,
     "end_time": "2023-12-08T16:21:53.874176",
     "exception": false,
     "start_time": "2023-12-08T16:21:53.838200",
     "status": "completed"
    },
    "tags": []
   },
   "outputs": [],
   "source": [
    "df=df.drop(['Unnamed: 0','Year', 'Month', 'Day', 'Hour', 'Day_of_Week','State'],axis=1)"
   ]
  },
  {
   "cell_type": "code",
   "execution_count": 4,
   "id": "5eaca407",
   "metadata": {
    "execution": {
     "iopub.execute_input": "2023-12-08T16:21:53.885332Z",
     "iopub.status.busy": "2023-12-08T16:21:53.884641Z",
     "iopub.status.idle": "2023-12-08T16:21:53.894289Z",
     "shell.execute_reply": "2023-12-08T16:21:53.892712Z"
    },
    "papermill": {
     "duration": 0.019222,
     "end_time": "2023-12-08T16:21:53.897917",
     "exception": false,
     "start_time": "2023-12-08T16:21:53.878695",
     "status": "completed"
    },
    "tags": []
   },
   "outputs": [
    {
     "data": {
      "text/plain": [
       "Index(['Distance(mi)', 'Temperature(F)', 'Wind_Chill(F)', 'Humidity(%)',\n",
       "       'Pressure(in)', 'Visibility(mi)', 'Wind_Direction', 'Wind_Speed(mph)',\n",
       "       'Precipitation(in)', 'Weather_Condition', 'Crossing', 'Junction',\n",
       "       'Traffic_Signal', 'Sunrise_Sunset', 'Day_Type', 'Season', 'Time_Of_Day',\n",
       "       'Duration', 'Severity'],\n",
       "      dtype='object')"
      ]
     },
     "execution_count": 4,
     "metadata": {},
     "output_type": "execute_result"
    }
   ],
   "source": [
    "df.columns"
   ]
  },
  {
   "cell_type": "code",
   "execution_count": 5,
   "id": "d2b1c482",
   "metadata": {
    "execution": {
     "iopub.execute_input": "2023-12-08T16:21:53.908930Z",
     "iopub.status.busy": "2023-12-08T16:21:53.908539Z",
     "iopub.status.idle": "2023-12-08T16:21:53.923865Z",
     "shell.execute_reply": "2023-12-08T16:21:53.922793Z"
    },
    "papermill": {
     "duration": 0.024084,
     "end_time": "2023-12-08T16:21:53.926794",
     "exception": false,
     "start_time": "2023-12-08T16:21:53.902710",
     "status": "completed"
    },
    "tags": []
   },
   "outputs": [],
   "source": [
    "X=df.iloc[:,:-1]\n",
    "y=df.iloc[:,-1]"
   ]
  },
  {
   "cell_type": "code",
   "execution_count": 6,
   "id": "3d5904f9",
   "metadata": {
    "execution": {
     "iopub.execute_input": "2023-12-08T16:21:53.938421Z",
     "iopub.status.busy": "2023-12-08T16:21:53.938044Z",
     "iopub.status.idle": "2023-12-08T16:38:26.581177Z",
     "shell.execute_reply": "2023-12-08T16:38:26.580033Z"
    },
    "papermill": {
     "duration": 992.656672,
     "end_time": "2023-12-08T16:38:26.588125",
     "exception": false,
     "start_time": "2023-12-08T16:21:53.931453",
     "status": "completed"
    },
    "tags": []
   },
   "outputs": [
    {
     "name": "stdout",
     "output_type": "stream",
     "text": [
      "Mean Accuracy: 0.728375\n",
      "Standard Deviation: 0.006912963366024744\n",
      "Classification Report:\n",
      "              precision    recall  f1-score   support\n",
      "\n",
      "           1       0.77      0.84      0.80      2047\n",
      "           2       0.70      0.59      0.64      1967\n",
      "           3       0.75      0.72      0.74      1986\n",
      "           4       0.70      0.76      0.73      2000\n",
      "\n",
      "    accuracy                           0.73      8000\n",
      "   macro avg       0.73      0.73      0.73      8000\n",
      "weighted avg       0.73      0.73      0.73      8000\n",
      "\n",
      "Confusion Matrix:\n",
      "[[1715   16  303   13]\n",
      " [  55 1170  137  605]\n",
      " [ 459   53 1436   38]\n",
      " [   9  438   35 1518]]\n",
      "Accuracy: 0.729875\n"
     ]
    }
   ],
   "source": [
    "from sklearn.compose import ColumnTransformer\n",
    "from sklearn.pipeline import Pipeline\n",
    "from sklearn.preprocessing import StandardScaler, OneHotEncoder\n",
    "from sklearn.ensemble import GradientBoostingClassifier\n",
    "from sklearn.model_selection import train_test_split, StratifiedKFold, cross_val_score\n",
    "from sklearn.metrics import accuracy_score, classification_report, confusion_matrix\n",
    "\n",
    "\n",
    "X = df.iloc[:, :-1]\n",
    "y = df.iloc[:, -1]\n",
    "\n",
    "\n",
    "X_train, X_test, y_train, y_test = train_test_split(X, y, test_size=0.2, random_state=42)\n",
    "\n",
    "\n",
    "numerical_cols = X.select_dtypes(include=['number']).columns\n",
    "categorical_cols = X.select_dtypes(include=['object']).columns\n",
    "\n",
    "\n",
    "numerical_transformer = StandardScaler()\n",
    "categorical_transformer = OneHotEncoder()\n",
    "\n",
    "\n",
    "preprocessor = ColumnTransformer(\n",
    "    transformers=[\n",
    "        ('num', numerical_transformer, numerical_cols),\n",
    "        ('cat', categorical_transformer, categorical_cols)\n",
    "    ])\n",
    "\n",
    "\n",
    "\n",
    "\n",
    "gb_boost = GradientBoostingClassifier(n_estimators=300, random_state=42)\n",
    "\n",
    "\n",
    "\n",
    "pipeline = Pipeline([\n",
    "    ('preprocessor', preprocessor),\n",
    "    ('classifier', gb_boost)\n",
    "])\n",
    "\n",
    "\n",
    "n_splits = 5*2  \n",
    "\n",
    "\n",
    "stratified_kfold = StratifiedKFold(n_splits=n_splits, shuffle=True, random_state=42)\n",
    "\n",
    "\n",
    "cv_scores = cross_val_score(pipeline, X_train, y_train, cv=stratified_kfold, scoring='accuracy')\n",
    "\n",
    "\n",
    "print(f\"Mean Accuracy: {cv_scores.mean()}\")\n",
    "print(f\"Standard Deviation: {cv_scores.std()}\")\n",
    "\n",
    "\n",
    "pipeline.fit(X_train, y_train)\n",
    "\n",
    "\n",
    "y_pred = pipeline.predict(X_test)\n",
    "\n",
    "\n",
    "print(\"Classification Report:\")\n",
    "print(classification_report(y_test, y_pred))\n",
    "\n",
    "\n",
    "print(\"Confusion Matrix:\")\n",
    "print(confusion_matrix(y_test, y_pred))\n",
    "\n",
    "\n",
    "accuracy = accuracy_score(y_test, y_pred)\n",
    "print(f\"Accuracy: {accuracy}\")\n"
   ]
  },
  {
   "cell_type": "code",
   "execution_count": 7,
   "id": "d5240451",
   "metadata": {
    "execution": {
     "iopub.execute_input": "2023-12-08T16:38:26.600228Z",
     "iopub.status.busy": "2023-12-08T16:38:26.599527Z",
     "iopub.status.idle": "2023-12-08T16:38:27.018645Z",
     "shell.execute_reply": "2023-12-08T16:38:27.017494Z"
    },
    "papermill": {
     "duration": 0.428994,
     "end_time": "2023-12-08T16:38:27.021634",
     "exception": false,
     "start_time": "2023-12-08T16:38:26.592640",
     "status": "completed"
    },
    "tags": []
   },
   "outputs": [
    {
     "data": {
      "image/png": "[encoded data removed]",
      "text/plain": [
       "<Figure size 1200x600 with 1 Axes>"
      ]
     },
     "metadata": {},
     "output_type": "display_data"
    }
   ],
   "source": [
    "import matplotlib.pyplot as plt\n",
    "import numpy as np\n",
    "\n",
    "plt.figure(figsize=(12, 6))\n",
    "\n",
    "\n",
    "plt.plot(range(1, n_splits + 1), cv_scores, marker='o', linestyle='-', color='blue', label='Accuracy Scores')\n",
    "\n",
    "\n",
    "\n",
    "plt.errorbar(range(1, n_splits + 1), cv_scores, yerr=np.std(cv_scores), linestyle='None', marker='.', color='orange', label='Standard Deviation')\n",
    "\n",
    "plt.xlabel('Fold')\n",
    "plt.ylabel('Accuracy')\n",
    "plt.title('Cross-Validation Accuracy Scores with Mean and Standard Deviation')\n",
    "plt.legend()\n",
    "plt.grid(True)\n",
    "plt.show()\n"
   ]
  },
  {
   "cell_type": "code",
   "execution_count": 8,
   "id": "92b847bd",
   "metadata": {
    "execution": {
     "iopub.execute_input": "2023-12-08T16:38:27.036177Z",
     "iopub.status.busy": "2023-12-08T16:38:27.035180Z",
     "iopub.status.idle": "2023-12-08T16:38:27.107343Z",
     "shell.execute_reply": "2023-12-08T16:38:27.106489Z"
    },
    "papermill": {
     "duration": 0.082054,
     "end_time": "2023-12-08T16:38:27.109683",
     "exception": false,
     "start_time": "2023-12-08T16:38:27.027629",
     "status": "completed"
    },
    "tags": []
   },
   "outputs": [
    {
     "data": {
      "text/plain": [
       "['your_pipeline_filename.joblib']"
      ]
     },
     "execution_count": 8,
     "metadata": {},
     "output_type": "execute_result"
    }
   ],
   "source": [
    "import joblib\n",
    "joblib.dump(pipeline, 'your_pipeline_filename.joblib')\n"
   ]
  },
  {
   "cell_type": "code",
   "execution_count": null,
   "id": "05db29d3",
   "metadata": {
    "papermill": {
     "duration": 0.005473,
     "end_time": "2023-12-08T16:38:27.121453",
     "exception": false,
     "start_time": "2023-12-08T16:38:27.115980",
     "status": "completed"
    },
    "tags": []
   },
   "outputs": [],
   "source": []
  }
 ],
 "metadata": {
  "kaggle": {
   "accelerator": "none",
   "dataSources": [
    {
     "datasetId": 4108854,
     "sourceId": 7123188,
     "sourceType": "datasetVersion"
    },
    {
     "datasetId": 4131479,
     "sourceId": 7154518,
     "sourceType": "datasetVersion"
    }
   ],
   "dockerImageVersionId": 30615,
   "isGpuEnabled": false,
   "isInternetEnabled": false,
   "language": "python",
   "sourceType": "notebook"
  },
  "kernelspec": {
   "display_name": "Python 3",
   "language": "python",
   "name": "python3"
  },
  "language_info": {
   "codemirror_mode": {
    "name": "ipython",
    "version": 3
   },
   "file_extension": ".py",
   "mimetype": "text/x-python",
   "name": "python",
   "nbconvert_exporter": "python",
   "pygments_lexer": "ipython3",
   "version": "3.10.12"
  },
  "papermill": {
   "default_parameters": {},
   "duration": 998.464655,
   "end_time": "2023-12-08T16:38:27.850544",
   "environment_variables": {},
   "exception": null,
   "input_path": "__notebook__.ipynb",
   "output_path": "__notebook__.ipynb",
   "parameters": {},
   "start_time": "2023-12-08T16:21:49.385889",
   "version": "2.4.0"
  }
 },
 "nbformat": 4,
 "nbformat_minor": 5
}
