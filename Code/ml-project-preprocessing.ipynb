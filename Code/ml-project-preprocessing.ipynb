{
 "cells": [
  {
   "cell_type": "code",
   "execution_count": 1,
   "id": "d867241b",
   "metadata": {
    "_cell_guid": "b1076dfc-b9ad-4769-8c92-a6c4dae69d19",
    "_uuid": "8f2839f25d086af736a60e9eeb907d3b93b6e0e5",
    "execution": {
     "iopub.execute_input": "2023-12-03T17:57:25.768769Z",
     "iopub.status.busy": "2023-12-03T17:57:25.768127Z",
     "iopub.status.idle": "2023-12-03T17:57:26.219812Z",
     "shell.execute_reply": "2023-12-03T17:57:26.218331Z"
    },
    "papermill": {
     "duration": 0.471503,
     "end_time": "2023-12-03T17:57:26.222573",
     "exception": false,
     "start_time": "2023-12-03T17:57:25.751070",
     "status": "completed"
    },
    "tags": []
   },
   "outputs": [
    {
     "name": "stdout",
     "output_type": "stream",
     "text": [
      "/kaggle/input/us-accidents/US_Accidents_March23.csv\n"
     ]
    }
   ],
   "source": [
    "# This Python 3 environment comes with many helpful analytics libraries installed\n",
    "# It is defined by the kaggle/python Docker image: https://github.com/kaggle/docker-python\n",
    "# For example, here's several helpful packages to load\n",
    "\n",
    "import numpy as np # linear algebra\n",
    "import pandas as pd # data processing, CSV file I/O (e.g. pd.read_csv)\n",
    "\n",
    "# Input data files are available in the read-only \"../input/\" directory\n",
    "# For example, running this (by clicking run or pressing Shift+Enter) will list all files under the input directory\n",
    "\n",
    "import os\n",
    "for dirname, _, filenames in os.walk('/kaggle/input'):\n",
    "    for filename in filenames:\n",
    "        print(os.path.join(dirname, filename))\n",
    "\n",
    "# You can write up to 20GB to the current directory (/kaggle/working/) that gets preserved as output when you create a version using \"Save & Run All\" \n",
    "# You can also write temporary files to /kaggle/temp/, but they won't be saved outside of the current session"
   ]
  },
  {
   "cell_type": "code",
   "execution_count": 2,
   "id": "f7fd87f9",
   "metadata": {
    "execution": {
     "iopub.execute_input": "2023-12-03T17:57:26.253909Z",
     "iopub.status.busy": "2023-12-03T17:57:26.253386Z",
     "iopub.status.idle": "2023-12-03T17:59:37.756627Z",
     "shell.execute_reply": "2023-12-03T17:59:37.755369Z"
    },
    "papermill": {
     "duration": 131.522445,
     "end_time": "2023-12-03T17:59:37.759721",
     "exception": false,
     "start_time": "2023-12-03T17:57:26.237276",
     "status": "completed"
    },
    "tags": []
   },
   "outputs": [],
   "source": [
    "df=pd.read_csv(\"/kaggle/input/us-accidents/US_Accidents_March23.csv\")"
   ]
  },
  {
   "cell_type": "markdown",
   "id": "47ff4aec",
   "metadata": {
    "papermill": {
     "duration": 0.014339,
     "end_time": "2023-12-03T17:59:37.788996",
     "exception": false,
     "start_time": "2023-12-03T17:59:37.774657",
     "status": "completed"
    },
    "tags": []
   },
   "source": [
    "### getting the data from 2022"
   ]
  },
  {
   "cell_type": "code",
   "execution_count": 3,
   "id": "b289a472",
   "metadata": {
    "execution": {
     "iopub.execute_input": "2023-12-03T17:59:37.821275Z",
     "iopub.status.busy": "2023-12-03T17:59:37.820837Z",
     "iopub.status.idle": "2023-12-03T17:59:45.651687Z",
     "shell.execute_reply": "2023-12-03T17:59:45.647131Z"
    },
    "papermill": {
     "duration": 7.85901,
     "end_time": "2023-12-03T17:59:45.663844",
     "exception": false,
     "start_time": "2023-12-03T17:59:37.804834",
     "status": "completed"
    },
    "tags": []
   },
   "outputs": [],
   "source": [
    "\n",
    "df['Start_Time'] = pd.to_datetime(df['Start_Time'], errors='coerce')\n",
    "\n",
    "\n",
    "chosen_data = df[df['Start_Time'] >= '2022-01-01']\n",
    "\n"
   ]
  },
  {
   "cell_type": "code",
   "execution_count": 4,
   "id": "d2f77986",
   "metadata": {
    "execution": {
     "iopub.execute_input": "2023-12-03T17:59:45.709384Z",
     "iopub.status.busy": "2023-12-03T17:59:45.707660Z",
     "iopub.status.idle": "2023-12-03T17:59:50.069836Z",
     "shell.execute_reply": "2023-12-03T17:59:50.066590Z"
    },
    "papermill": {
     "duration": 4.389111,
     "end_time": "2023-12-03T17:59:50.077797",
     "exception": false,
     "start_time": "2023-12-03T17:59:45.688686",
     "status": "completed"
    },
    "tags": []
   },
   "outputs": [],
   "source": [
    "chosen_data = chosen_data.reset_index(drop=True)"
   ]
  },
  {
   "cell_type": "code",
   "execution_count": 5,
   "id": "272e1f62",
   "metadata": {
    "execution": {
     "iopub.execute_input": "2023-12-03T17:59:50.177997Z",
     "iopub.status.busy": "2023-12-03T17:59:50.176933Z",
     "iopub.status.idle": "2023-12-03T17:59:51.381296Z",
     "shell.execute_reply": "2023-12-03T17:59:51.379626Z"
    },
    "papermill": {
     "duration": 1.2592,
     "end_time": "2023-12-03T17:59:51.386888",
     "exception": false,
     "start_time": "2023-12-03T17:59:50.127688",
     "status": "completed"
    },
    "tags": []
   },
   "outputs": [
    {
     "data": {
      "text/html": [
       "<div>\n",
       "<style scoped>\n",
       "    .dataframe tbody tr th:only-of-type {\n",
       "        vertical-align: middle;\n",
       "    }\n",
       "\n",
       "    .dataframe tbody tr th {\n",
       "        vertical-align: top;\n",
       "    }\n",
       "\n",
       "    .dataframe thead th {\n",
       "        text-align: right;\n",
       "    }\n",
       "</style>\n",
       "<table border=\"1\" class=\"dataframe\">\n",
       "  <thead>\n",
       "    <tr style=\"text-align: right;\">\n",
       "      <th></th>\n",
       "      <th>ID</th>\n",
       "      <th>Source</th>\n",
       "      <th>Severity</th>\n",
       "      <th>Start_Time</th>\n",
       "      <th>End_Time</th>\n",
       "      <th>Start_Lat</th>\n",
       "      <th>Start_Lng</th>\n",
       "      <th>End_Lat</th>\n",
       "      <th>End_Lng</th>\n",
       "      <th>Distance(mi)</th>\n",
       "      <th>...</th>\n",
       "      <th>Roundabout</th>\n",
       "      <th>Station</th>\n",
       "      <th>Stop</th>\n",
       "      <th>Traffic_Calming</th>\n",
       "      <th>Traffic_Signal</th>\n",
       "      <th>Turning_Loop</th>\n",
       "      <th>Sunrise_Sunset</th>\n",
       "      <th>Civil_Twilight</th>\n",
       "      <th>Nautical_Twilight</th>\n",
       "      <th>Astronomical_Twilight</th>\n",
       "    </tr>\n",
       "  </thead>\n",
       "  <tbody>\n",
       "    <tr>\n",
       "      <th>0</th>\n",
       "      <td>A-512230</td>\n",
       "      <td>Source2</td>\n",
       "      <td>1</td>\n",
       "      <td>2022-09-08 05:49:30</td>\n",
       "      <td>2022-09-08 06:34:53</td>\n",
       "      <td>41.946796</td>\n",
       "      <td>-88.208092</td>\n",
       "      <td>NaN</td>\n",
       "      <td>NaN</td>\n",
       "      <td>0.000</td>\n",
       "      <td>...</td>\n",
       "      <td>False</td>\n",
       "      <td>False</td>\n",
       "      <td>False</td>\n",
       "      <td>False</td>\n",
       "      <td>True</td>\n",
       "      <td>False</td>\n",
       "      <td>Night</td>\n",
       "      <td>Night</td>\n",
       "      <td>Day</td>\n",
       "      <td>Day</td>\n",
       "    </tr>\n",
       "    <tr>\n",
       "      <th>1</th>\n",
       "      <td>A-512231</td>\n",
       "      <td>Source2</td>\n",
       "      <td>1</td>\n",
       "      <td>2022-09-08 02:02:05</td>\n",
       "      <td>2022-09-08 04:31:32</td>\n",
       "      <td>34.521172</td>\n",
       "      <td>-117.958076</td>\n",
       "      <td>NaN</td>\n",
       "      <td>NaN</td>\n",
       "      <td>0.000</td>\n",
       "      <td>...</td>\n",
       "      <td>False</td>\n",
       "      <td>False</td>\n",
       "      <td>False</td>\n",
       "      <td>False</td>\n",
       "      <td>False</td>\n",
       "      <td>False</td>\n",
       "      <td>Night</td>\n",
       "      <td>Night</td>\n",
       "      <td>Night</td>\n",
       "      <td>Night</td>\n",
       "    </tr>\n",
       "    <tr>\n",
       "      <th>2</th>\n",
       "      <td>A-512232</td>\n",
       "      <td>Source2</td>\n",
       "      <td>1</td>\n",
       "      <td>2022-09-08 05:14:12</td>\n",
       "      <td>2022-09-08 07:38:17</td>\n",
       "      <td>37.542839</td>\n",
       "      <td>-77.441780</td>\n",
       "      <td>NaN</td>\n",
       "      <td>NaN</td>\n",
       "      <td>0.000</td>\n",
       "      <td>...</td>\n",
       "      <td>False</td>\n",
       "      <td>False</td>\n",
       "      <td>False</td>\n",
       "      <td>False</td>\n",
       "      <td>True</td>\n",
       "      <td>False</td>\n",
       "      <td>Night</td>\n",
       "      <td>Night</td>\n",
       "      <td>Night</td>\n",
       "      <td>Night</td>\n",
       "    </tr>\n",
       "    <tr>\n",
       "      <th>3</th>\n",
       "      <td>A-512233</td>\n",
       "      <td>Source2</td>\n",
       "      <td>1</td>\n",
       "      <td>2022-09-08 06:22:57</td>\n",
       "      <td>2022-09-08 06:52:42</td>\n",
       "      <td>40.896629</td>\n",
       "      <td>-81.178452</td>\n",
       "      <td>NaN</td>\n",
       "      <td>NaN</td>\n",
       "      <td>0.000</td>\n",
       "      <td>...</td>\n",
       "      <td>False</td>\n",
       "      <td>False</td>\n",
       "      <td>False</td>\n",
       "      <td>False</td>\n",
       "      <td>False</td>\n",
       "      <td>False</td>\n",
       "      <td>Night</td>\n",
       "      <td>Night</td>\n",
       "      <td>Day</td>\n",
       "      <td>Day</td>\n",
       "    </tr>\n",
       "    <tr>\n",
       "      <th>4</th>\n",
       "      <td>A-512234</td>\n",
       "      <td>Source2</td>\n",
       "      <td>2</td>\n",
       "      <td>2022-09-08 06:36:20</td>\n",
       "      <td>2022-09-08 07:05:58</td>\n",
       "      <td>41.409359</td>\n",
       "      <td>-81.644318</td>\n",
       "      <td>NaN</td>\n",
       "      <td>NaN</td>\n",
       "      <td>1.910</td>\n",
       "      <td>...</td>\n",
       "      <td>False</td>\n",
       "      <td>False</td>\n",
       "      <td>False</td>\n",
       "      <td>False</td>\n",
       "      <td>False</td>\n",
       "      <td>False</td>\n",
       "      <td>Night</td>\n",
       "      <td>Day</td>\n",
       "      <td>Day</td>\n",
       "      <td>Day</td>\n",
       "    </tr>\n",
       "    <tr>\n",
       "      <th>...</th>\n",
       "      <td>...</td>\n",
       "      <td>...</td>\n",
       "      <td>...</td>\n",
       "      <td>...</td>\n",
       "      <td>...</td>\n",
       "      <td>...</td>\n",
       "      <td>...</td>\n",
       "      <td>...</td>\n",
       "      <td>...</td>\n",
       "      <td>...</td>\n",
       "      <td>...</td>\n",
       "      <td>...</td>\n",
       "      <td>...</td>\n",
       "      <td>...</td>\n",
       "      <td>...</td>\n",
       "      <td>...</td>\n",
       "      <td>...</td>\n",
       "      <td>...</td>\n",
       "      <td>...</td>\n",
       "      <td>...</td>\n",
       "      <td>...</td>\n",
       "    </tr>\n",
       "    <tr>\n",
       "      <th>1435353</th>\n",
       "      <td>A-5462838</td>\n",
       "      <td>Source1</td>\n",
       "      <td>2</td>\n",
       "      <td>2022-12-01 19:18:00</td>\n",
       "      <td>2022-12-01 20:39:50</td>\n",
       "      <td>34.279292</td>\n",
       "      <td>-118.502042</td>\n",
       "      <td>34.279295</td>\n",
       "      <td>-118.502125</td>\n",
       "      <td>0.005</td>\n",
       "      <td>...</td>\n",
       "      <td>False</td>\n",
       "      <td>False</td>\n",
       "      <td>False</td>\n",
       "      <td>False</td>\n",
       "      <td>True</td>\n",
       "      <td>False</td>\n",
       "      <td>Night</td>\n",
       "      <td>Night</td>\n",
       "      <td>Night</td>\n",
       "      <td>Night</td>\n",
       "    </tr>\n",
       "    <tr>\n",
       "      <th>1435354</th>\n",
       "      <td>A-5462839</td>\n",
       "      <td>Source1</td>\n",
       "      <td>2</td>\n",
       "      <td>2022-05-20 14:23:46</td>\n",
       "      <td>2022-05-20 17:20:36</td>\n",
       "      <td>33.998733</td>\n",
       "      <td>-117.888223</td>\n",
       "      <td>33.995586</td>\n",
       "      <td>-117.888550</td>\n",
       "      <td>0.218</td>\n",
       "      <td>...</td>\n",
       "      <td>False</td>\n",
       "      <td>True</td>\n",
       "      <td>False</td>\n",
       "      <td>False</td>\n",
       "      <td>False</td>\n",
       "      <td>False</td>\n",
       "      <td>Day</td>\n",
       "      <td>Day</td>\n",
       "      <td>Day</td>\n",
       "      <td>Day</td>\n",
       "    </tr>\n",
       "    <tr>\n",
       "      <th>1435355</th>\n",
       "      <td>A-5462840</td>\n",
       "      <td>Source1</td>\n",
       "      <td>2</td>\n",
       "      <td>2022-02-01 16:01:49</td>\n",
       "      <td>2022-02-01 16:43:36</td>\n",
       "      <td>35.259827</td>\n",
       "      <td>-80.795097</td>\n",
       "      <td>35.258393</td>\n",
       "      <td>-80.794113</td>\n",
       "      <td>0.114</td>\n",
       "      <td>...</td>\n",
       "      <td>False</td>\n",
       "      <td>False</td>\n",
       "      <td>False</td>\n",
       "      <td>False</td>\n",
       "      <td>False</td>\n",
       "      <td>False</td>\n",
       "      <td>Day</td>\n",
       "      <td>Day</td>\n",
       "      <td>Day</td>\n",
       "      <td>Day</td>\n",
       "    </tr>\n",
       "    <tr>\n",
       "      <th>1435356</th>\n",
       "      <td>A-5462841</td>\n",
       "      <td>Source1</td>\n",
       "      <td>2</td>\n",
       "      <td>2022-01-04 16:33:30</td>\n",
       "      <td>2022-01-04 19:12:19</td>\n",
       "      <td>35.262812</td>\n",
       "      <td>-80.795116</td>\n",
       "      <td>35.258393</td>\n",
       "      <td>-80.794113</td>\n",
       "      <td>0.311</td>\n",
       "      <td>...</td>\n",
       "      <td>False</td>\n",
       "      <td>False</td>\n",
       "      <td>False</td>\n",
       "      <td>False</td>\n",
       "      <td>False</td>\n",
       "      <td>False</td>\n",
       "      <td>Day</td>\n",
       "      <td>Day</td>\n",
       "      <td>Day</td>\n",
       "      <td>Day</td>\n",
       "    </tr>\n",
       "    <tr>\n",
       "      <th>1435357</th>\n",
       "      <td>A-5462842</td>\n",
       "      <td>Source1</td>\n",
       "      <td>2</td>\n",
       "      <td>2022-03-15 17:10:08</td>\n",
       "      <td>2022-03-15 19:11:59</td>\n",
       "      <td>25.831296</td>\n",
       "      <td>-80.239112</td>\n",
       "      <td>25.830308</td>\n",
       "      <td>-80.241185</td>\n",
       "      <td>0.146</td>\n",
       "      <td>...</td>\n",
       "      <td>False</td>\n",
       "      <td>False</td>\n",
       "      <td>False</td>\n",
       "      <td>False</td>\n",
       "      <td>True</td>\n",
       "      <td>False</td>\n",
       "      <td>Day</td>\n",
       "      <td>Day</td>\n",
       "      <td>Day</td>\n",
       "      <td>Day</td>\n",
       "    </tr>\n",
       "  </tbody>\n",
       "</table>\n",
       "<p>1435358 rows × 46 columns</p>\n",
       "</div>"
      ],
      "text/plain": [
       "                ID   Source  Severity          Start_Time  \\\n",
       "0         A-512230  Source2         1 2022-09-08 05:49:30   \n",
       "1         A-512231  Source2         1 2022-09-08 02:02:05   \n",
       "2         A-512232  Source2         1 2022-09-08 05:14:12   \n",
       "3         A-512233  Source2         1 2022-09-08 06:22:57   \n",
       "4         A-512234  Source2         2 2022-09-08 06:36:20   \n",
       "...            ...      ...       ...                 ...   \n",
       "1435353  A-5462838  Source1         2 2022-12-01 19:18:00   \n",
       "1435354  A-5462839  Source1         2 2022-05-20 14:23:46   \n",
       "1435355  A-5462840  Source1         2 2022-02-01 16:01:49   \n",
       "1435356  A-5462841  Source1         2 2022-01-04 16:33:30   \n",
       "1435357  A-5462842  Source1         2 2022-03-15 17:10:08   \n",
       "\n",
       "                    End_Time  Start_Lat   Start_Lng    End_Lat     End_Lng  \\\n",
       "0        2022-09-08 06:34:53  41.946796  -88.208092        NaN         NaN   \n",
       "1        2022-09-08 04:31:32  34.521172 -117.958076        NaN         NaN   \n",
       "2        2022-09-08 07:38:17  37.542839  -77.441780        NaN         NaN   \n",
       "3        2022-09-08 06:52:42  40.896629  -81.178452        NaN         NaN   \n",
       "4        2022-09-08 07:05:58  41.409359  -81.644318        NaN         NaN   \n",
       "...                      ...        ...         ...        ...         ...   \n",
       "1435353  2022-12-01 20:39:50  34.279292 -118.502042  34.279295 -118.502125   \n",
       "1435354  2022-05-20 17:20:36  33.998733 -117.888223  33.995586 -117.888550   \n",
       "1435355  2022-02-01 16:43:36  35.259827  -80.795097  35.258393  -80.794113   \n",
       "1435356  2022-01-04 19:12:19  35.262812  -80.795116  35.258393  -80.794113   \n",
       "1435357  2022-03-15 19:11:59  25.831296  -80.239112  25.830308  -80.241185   \n",
       "\n",
       "         Distance(mi)  ... Roundabout Station   Stop Traffic_Calming  \\\n",
       "0               0.000  ...      False   False  False           False   \n",
       "1               0.000  ...      False   False  False           False   \n",
       "2               0.000  ...      False   False  False           False   \n",
       "3               0.000  ...      False   False  False           False   \n",
       "4               1.910  ...      False   False  False           False   \n",
       "...               ...  ...        ...     ...    ...             ...   \n",
       "1435353         0.005  ...      False   False  False           False   \n",
       "1435354         0.218  ...      False    True  False           False   \n",
       "1435355         0.114  ...      False   False  False           False   \n",
       "1435356         0.311  ...      False   False  False           False   \n",
       "1435357         0.146  ...      False   False  False           False   \n",
       "\n",
       "        Traffic_Signal Turning_Loop Sunrise_Sunset Civil_Twilight  \\\n",
       "0                 True        False          Night          Night   \n",
       "1                False        False          Night          Night   \n",
       "2                 True        False          Night          Night   \n",
       "3                False        False          Night          Night   \n",
       "4                False        False          Night            Day   \n",
       "...                ...          ...            ...            ...   \n",
       "1435353           True        False          Night          Night   \n",
       "1435354          False        False            Day            Day   \n",
       "1435355          False        False            Day            Day   \n",
       "1435356          False        False            Day            Day   \n",
       "1435357           True        False            Day            Day   \n",
       "\n",
       "        Nautical_Twilight Astronomical_Twilight  \n",
       "0                     Day                   Day  \n",
       "1                   Night                 Night  \n",
       "2                   Night                 Night  \n",
       "3                     Day                   Day  \n",
       "4                     Day                   Day  \n",
       "...                   ...                   ...  \n",
       "1435353             Night                 Night  \n",
       "1435354               Day                   Day  \n",
       "1435355               Day                   Day  \n",
       "1435356               Day                   Day  \n",
       "1435357               Day                   Day  \n",
       "\n",
       "[1435358 rows x 46 columns]"
      ]
     },
     "execution_count": 5,
     "metadata": {},
     "output_type": "execute_result"
    }
   ],
   "source": [
    "chosen_data"
   ]
  },
  {
   "cell_type": "code",
   "execution_count": 6,
   "id": "287fcede",
   "metadata": {
    "execution": {
     "iopub.execute_input": "2023-12-03T17:59:51.426392Z",
     "iopub.status.busy": "2023-12-03T17:59:51.425513Z",
     "iopub.status.idle": "2023-12-03T17:59:51.434139Z",
     "shell.execute_reply": "2023-12-03T17:59:51.432992Z"
    },
    "papermill": {
     "duration": 0.03067,
     "end_time": "2023-12-03T17:59:51.436891",
     "exception": false,
     "start_time": "2023-12-03T17:59:51.406221",
     "status": "completed"
    },
    "tags": []
   },
   "outputs": [
    {
     "data": {
      "text/plain": [
       "Index(['ID', 'Source', 'Severity', 'Start_Time', 'End_Time', 'Start_Lat',\n",
       "       'Start_Lng', 'End_Lat', 'End_Lng', 'Distance(mi)', 'Description',\n",
       "       'Street', 'City', 'County', 'State', 'Zipcode', 'Country', 'Timezone',\n",
       "       'Airport_Code', 'Weather_Timestamp', 'Temperature(F)', 'Wind_Chill(F)',\n",
       "       'Humidity(%)', 'Pressure(in)', 'Visibility(mi)', 'Wind_Direction',\n",
       "       'Wind_Speed(mph)', 'Precipitation(in)', 'Weather_Condition', 'Amenity',\n",
       "       'Bump', 'Crossing', 'Give_Way', 'Junction', 'No_Exit', 'Railway',\n",
       "       'Roundabout', 'Station', 'Stop', 'Traffic_Calming', 'Traffic_Signal',\n",
       "       'Turning_Loop', 'Sunrise_Sunset', 'Civil_Twilight', 'Nautical_Twilight',\n",
       "       'Astronomical_Twilight'],\n",
       "      dtype='object')"
      ]
     },
     "execution_count": 6,
     "metadata": {},
     "output_type": "execute_result"
    }
   ],
   "source": [
    "chosen_data.columns"
   ]
  },
  {
   "cell_type": "markdown",
   "id": "5fbe4b6f",
   "metadata": {
    "papermill": {
     "duration": 0.015116,
     "end_time": "2023-12-03T17:59:51.467522",
     "exception": false,
     "start_time": "2023-12-03T17:59:51.452406",
     "status": "completed"
    },
    "tags": []
   },
   "source": [
    "### dropping the irrelevant columns"
   ]
  },
  {
   "cell_type": "code",
   "execution_count": 7,
   "id": "5faf969d",
   "metadata": {
    "execution": {
     "iopub.execute_input": "2023-12-03T17:59:51.502313Z",
     "iopub.status.busy": "2023-12-03T17:59:51.501888Z",
     "iopub.status.idle": "2023-12-03T17:59:51.509531Z",
     "shell.execute_reply": "2023-12-03T17:59:51.508094Z"
    },
    "papermill": {
     "duration": 0.029365,
     "end_time": "2023-12-03T17:59:51.512403",
     "exception": false,
     "start_time": "2023-12-03T17:59:51.483038",
     "status": "completed"
    },
    "tags": []
   },
   "outputs": [],
   "source": [
    "columns_to_be_dropped=['ID','End_Lat', 'End_Lng','Source','Timezone','Weather_Timestamp','Description','Street', 'City', 'County','Zipcode', 'Country','Airport_Code','Amenity',\n",
    "       'Bump', 'Crossing', 'Give_Way', 'Junction', 'No_Exit','Station', 'Stop','Railway', 'Roundabout','Traffic_Calming','Civil_Twilight', 'Nautical_Twilight','Astronomical_Twilight','Start_Lat','Start_Lng','Roundabout','Traffic_Signal','Turning_Loop']"
   ]
  },
  {
   "cell_type": "code",
   "execution_count": 8,
   "id": "ad0a3dfd",
   "metadata": {
    "execution": {
     "iopub.execute_input": "2023-12-03T17:59:51.548406Z",
     "iopub.status.busy": "2023-12-03T17:59:51.548021Z",
     "iopub.status.idle": "2023-12-03T17:59:51.703605Z",
     "shell.execute_reply": "2023-12-03T17:59:51.702075Z"
    },
    "papermill": {
     "duration": 0.176563,
     "end_time": "2023-12-03T17:59:51.707459",
     "exception": false,
     "start_time": "2023-12-03T17:59:51.530896",
     "status": "completed"
    },
    "tags": []
   },
   "outputs": [],
   "source": [
    "chosen_data=chosen_data.drop(columns=columns_to_be_dropped)"
   ]
  },
  {
   "cell_type": "code",
   "execution_count": 9,
   "id": "38d1a46f",
   "metadata": {
    "execution": {
     "iopub.execute_input": "2023-12-03T17:59:51.740912Z",
     "iopub.status.busy": "2023-12-03T17:59:51.740498Z",
     "iopub.status.idle": "2023-12-03T17:59:51.748617Z",
     "shell.execute_reply": "2023-12-03T17:59:51.747247Z"
    },
    "papermill": {
     "duration": 0.027486,
     "end_time": "2023-12-03T17:59:51.750962",
     "exception": false,
     "start_time": "2023-12-03T17:59:51.723476",
     "status": "completed"
    },
    "tags": []
   },
   "outputs": [
    {
     "data": {
      "text/plain": [
       "Index(['Severity', 'Start_Time', 'End_Time', 'Distance(mi)', 'State',\n",
       "       'Temperature(F)', 'Wind_Chill(F)', 'Humidity(%)', 'Pressure(in)',\n",
       "       'Visibility(mi)', 'Wind_Direction', 'Wind_Speed(mph)',\n",
       "       'Precipitation(in)', 'Weather_Condition', 'Sunrise_Sunset'],\n",
       "      dtype='object')"
      ]
     },
     "execution_count": 9,
     "metadata": {},
     "output_type": "execute_result"
    }
   ],
   "source": [
    "chosen_data.columns"
   ]
  },
  {
   "cell_type": "markdown",
   "id": "4d61fee2",
   "metadata": {
    "papermill": {
     "duration": 0.182488,
     "end_time": "2023-12-03T17:59:51.949689",
     "exception": false,
     "start_time": "2023-12-03T17:59:51.767201",
     "status": "completed"
    },
    "tags": []
   },
   "source": [
    "### making columns for data year and day, and also creating a refrence for the accieent being in morning, afternoon, evening and night"
   ]
  },
  {
   "cell_type": "markdown",
   "id": "6febfd9e",
   "metadata": {
    "papermill": {
     "duration": 0.015353,
     "end_time": "2023-12-03T17:59:51.980850",
     "exception": false,
     "start_time": "2023-12-03T17:59:51.965497",
     "status": "completed"
    },
    "tags": []
   },
   "source": []
  },
  {
   "cell_type": "code",
   "execution_count": 10,
   "id": "950caffe",
   "metadata": {
    "execution": {
     "iopub.execute_input": "2023-12-03T17:59:52.015404Z",
     "iopub.status.busy": "2023-12-03T17:59:52.014595Z",
     "iopub.status.idle": "2023-12-03T17:59:53.412741Z",
     "shell.execute_reply": "2023-12-03T17:59:53.411195Z"
    },
    "papermill": {
     "duration": 1.419131,
     "end_time": "2023-12-03T17:59:53.415944",
     "exception": false,
     "start_time": "2023-12-03T17:59:51.996813",
     "status": "completed"
    },
    "tags": []
   },
   "outputs": [],
   "source": [
    "import pandas as pd\n",
    "\n",
    "\n",
    "chosen_data['Start_Time'] = pd.to_datetime(chosen_data['Start_Time'], errors='coerce')\n",
    "\n",
    "\n",
    "chosen_data['Year'] = chosen_data['Start_Time'].dt.year\n",
    "chosen_data['Month'] = chosen_data['Start_Time'].dt.month\n",
    "chosen_data['Day'] = chosen_data['Start_Time'].dt.day\n",
    "chosen_data['Hour'] = chosen_data['Start_Time'].dt.hour\n",
    "chosen_data['Day_of_Week'] = chosen_data['Start_Time'].dt.dayofweek  # Monday=0, Sunday=6\n",
    "\n",
    "\n",
    "chosen_data['Day_Type'] = chosen_data['Day_of_Week'].apply(lambda x: 'Weekend' if x >= 5 else 'Weekday')\n",
    "\n",
    "\n",
    "seasons_mapping = {1: 'Winter', 2: 'Winter', 3: 'Spring', 4: 'Spring', 5: 'Spring', 6: 'Summer', 7: 'Summer', 8: 'Summer', 9: 'Autumn', 10: 'Autumn', 11: 'Autumn', 12: 'Winter'}\n",
    "chosen_data['Season'] = chosen_data['Month'].map(seasons_mapping)\n",
    "\n",
    "\n",
    "time_of_day_mapping = {0: 'Night', 1: 'Night', 2: 'Night', 3: 'Night', 4: 'Night', 5: 'Morning', 6: 'Morning', 7: 'Morning', 8: 'Morning', 9: 'Morning', 10: 'Morning', 11: 'Afternoon', 12: 'Afternoon', 13: 'Afternoon', 14: 'Afternoon', 15: 'Afternoon', 16: 'Evening', 17: 'Evening', 18: 'Evening', 19: 'Evening', 20: 'Night', 21: 'Night', 22: 'Night', 23: 'Night'}\n",
    "chosen_data['Time_Of_Day'] = chosen_data['Hour'].map(time_of_day_mapping)\n",
    "\n",
    "\n",
    "\n"
   ]
  },
  {
   "cell_type": "markdown",
   "id": "df009730",
   "metadata": {
    "papermill": {
     "duration": 0.016661,
     "end_time": "2023-12-03T17:59:53.449378",
     "exception": false,
     "start_time": "2023-12-03T17:59:53.432717",
     "status": "completed"
    },
    "tags": []
   },
   "source": [
    "### creating a new column called duration"
   ]
  },
  {
   "cell_type": "code",
   "execution_count": 11,
   "id": "7598f272",
   "metadata": {
    "execution": {
     "iopub.execute_input": "2023-12-03T17:59:53.483830Z",
     "iopub.status.busy": "2023-12-03T17:59:53.483394Z",
     "iopub.status.idle": "2023-12-03T17:59:54.478252Z",
     "shell.execute_reply": "2023-12-03T17:59:54.477036Z"
    },
    "papermill": {
     "duration": 1.015701,
     "end_time": "2023-12-03T17:59:54.481232",
     "exception": false,
     "start_time": "2023-12-03T17:59:53.465531",
     "status": "completed"
    },
    "tags": []
   },
   "outputs": [],
   "source": [
    "import pandas as pd\n",
    "\n",
    "\n",
    "chosen_data['Start_Time'] = pd.to_datetime(chosen_data['Start_Time'], errors='coerce')\n",
    "chosen_data['End_Time'] = pd.to_datetime(chosen_data['End_Time'], errors='coerce')\n",
    "\n",
    "# Add a new feature 'Duration'\n",
    "chosen_data['Duration'] = chosen_data['End_Time'] - chosen_data['Start_Time']\n",
    "\n",
    "\n",
    "chosen_data = chosen_data.drop(columns=['End_Time'])\n",
    "\n"
   ]
  },
  {
   "cell_type": "code",
   "execution_count": 12,
   "id": "44bc40ee",
   "metadata": {
    "execution": {
     "iopub.execute_input": "2023-12-03T17:59:54.516138Z",
     "iopub.status.busy": "2023-12-03T17:59:54.515690Z",
     "iopub.status.idle": "2023-12-03T17:59:55.234129Z",
     "shell.execute_reply": "2023-12-03T17:59:55.233069Z"
    },
    "papermill": {
     "duration": 0.739131,
     "end_time": "2023-12-03T17:59:55.236872",
     "exception": false,
     "start_time": "2023-12-03T17:59:54.497741",
     "status": "completed"
    },
    "tags": []
   },
   "outputs": [
    {
     "data": {
      "text/html": [
       "<div>\n",
       "<style scoped>\n",
       "    .dataframe tbody tr th:only-of-type {\n",
       "        vertical-align: middle;\n",
       "    }\n",
       "\n",
       "    .dataframe tbody tr th {\n",
       "        vertical-align: top;\n",
       "    }\n",
       "\n",
       "    .dataframe thead th {\n",
       "        text-align: right;\n",
       "    }\n",
       "</style>\n",
       "<table border=\"1\" class=\"dataframe\">\n",
       "  <thead>\n",
       "    <tr style=\"text-align: right;\">\n",
       "      <th></th>\n",
       "      <th>Severity</th>\n",
       "      <th>Start_Time</th>\n",
       "      <th>Distance(mi)</th>\n",
       "      <th>State</th>\n",
       "      <th>Temperature(F)</th>\n",
       "      <th>Wind_Chill(F)</th>\n",
       "      <th>Humidity(%)</th>\n",
       "      <th>Pressure(in)</th>\n",
       "      <th>Visibility(mi)</th>\n",
       "      <th>Wind_Direction</th>\n",
       "      <th>...</th>\n",
       "      <th>Sunrise_Sunset</th>\n",
       "      <th>Year</th>\n",
       "      <th>Month</th>\n",
       "      <th>Day</th>\n",
       "      <th>Hour</th>\n",
       "      <th>Day_of_Week</th>\n",
       "      <th>Day_Type</th>\n",
       "      <th>Season</th>\n",
       "      <th>Time_Of_Day</th>\n",
       "      <th>Duration</th>\n",
       "    </tr>\n",
       "  </thead>\n",
       "  <tbody>\n",
       "    <tr>\n",
       "      <th>0</th>\n",
       "      <td>1</td>\n",
       "      <td>2022-09-08 05:49:30</td>\n",
       "      <td>0.000</td>\n",
       "      <td>IL</td>\n",
       "      <td>58.0</td>\n",
       "      <td>58.0</td>\n",
       "      <td>90.0</td>\n",
       "      <td>29.24</td>\n",
       "      <td>10.0</td>\n",
       "      <td>CALM</td>\n",
       "      <td>...</td>\n",
       "      <td>Night</td>\n",
       "      <td>2022</td>\n",
       "      <td>9</td>\n",
       "      <td>8</td>\n",
       "      <td>5</td>\n",
       "      <td>3</td>\n",
       "      <td>Weekday</td>\n",
       "      <td>Autumn</td>\n",
       "      <td>Morning</td>\n",
       "      <td>0 days 00:45:23</td>\n",
       "    </tr>\n",
       "    <tr>\n",
       "      <th>1</th>\n",
       "      <td>1</td>\n",
       "      <td>2022-09-08 02:02:05</td>\n",
       "      <td>0.000</td>\n",
       "      <td>CA</td>\n",
       "      <td>86.0</td>\n",
       "      <td>86.0</td>\n",
       "      <td>28.0</td>\n",
       "      <td>27.35</td>\n",
       "      <td>10.0</td>\n",
       "      <td>W</td>\n",
       "      <td>...</td>\n",
       "      <td>Night</td>\n",
       "      <td>2022</td>\n",
       "      <td>9</td>\n",
       "      <td>8</td>\n",
       "      <td>2</td>\n",
       "      <td>3</td>\n",
       "      <td>Weekday</td>\n",
       "      <td>Autumn</td>\n",
       "      <td>Night</td>\n",
       "      <td>0 days 02:29:27</td>\n",
       "    </tr>\n",
       "    <tr>\n",
       "      <th>2</th>\n",
       "      <td>1</td>\n",
       "      <td>2022-09-08 05:14:12</td>\n",
       "      <td>0.000</td>\n",
       "      <td>VA</td>\n",
       "      <td>68.0</td>\n",
       "      <td>68.0</td>\n",
       "      <td>96.0</td>\n",
       "      <td>29.71</td>\n",
       "      <td>10.0</td>\n",
       "      <td>N</td>\n",
       "      <td>...</td>\n",
       "      <td>Night</td>\n",
       "      <td>2022</td>\n",
       "      <td>9</td>\n",
       "      <td>8</td>\n",
       "      <td>5</td>\n",
       "      <td>3</td>\n",
       "      <td>Weekday</td>\n",
       "      <td>Autumn</td>\n",
       "      <td>Morning</td>\n",
       "      <td>0 days 02:24:05</td>\n",
       "    </tr>\n",
       "    <tr>\n",
       "      <th>3</th>\n",
       "      <td>1</td>\n",
       "      <td>2022-09-08 06:22:57</td>\n",
       "      <td>0.000</td>\n",
       "      <td>OH</td>\n",
       "      <td>62.0</td>\n",
       "      <td>62.0</td>\n",
       "      <td>86.0</td>\n",
       "      <td>28.71</td>\n",
       "      <td>7.0</td>\n",
       "      <td>NNE</td>\n",
       "      <td>...</td>\n",
       "      <td>Night</td>\n",
       "      <td>2022</td>\n",
       "      <td>9</td>\n",
       "      <td>8</td>\n",
       "      <td>6</td>\n",
       "      <td>3</td>\n",
       "      <td>Weekday</td>\n",
       "      <td>Autumn</td>\n",
       "      <td>Morning</td>\n",
       "      <td>0 days 00:29:45</td>\n",
       "    </tr>\n",
       "    <tr>\n",
       "      <th>4</th>\n",
       "      <td>2</td>\n",
       "      <td>2022-09-08 06:36:20</td>\n",
       "      <td>1.910</td>\n",
       "      <td>OH</td>\n",
       "      <td>63.0</td>\n",
       "      <td>63.0</td>\n",
       "      <td>87.0</td>\n",
       "      <td>29.37</td>\n",
       "      <td>7.0</td>\n",
       "      <td>SSE</td>\n",
       "      <td>...</td>\n",
       "      <td>Night</td>\n",
       "      <td>2022</td>\n",
       "      <td>9</td>\n",
       "      <td>8</td>\n",
       "      <td>6</td>\n",
       "      <td>3</td>\n",
       "      <td>Weekday</td>\n",
       "      <td>Autumn</td>\n",
       "      <td>Morning</td>\n",
       "      <td>0 days 00:29:38</td>\n",
       "    </tr>\n",
       "    <tr>\n",
       "      <th>...</th>\n",
       "      <td>...</td>\n",
       "      <td>...</td>\n",
       "      <td>...</td>\n",
       "      <td>...</td>\n",
       "      <td>...</td>\n",
       "      <td>...</td>\n",
       "      <td>...</td>\n",
       "      <td>...</td>\n",
       "      <td>...</td>\n",
       "      <td>...</td>\n",
       "      <td>...</td>\n",
       "      <td>...</td>\n",
       "      <td>...</td>\n",
       "      <td>...</td>\n",
       "      <td>...</td>\n",
       "      <td>...</td>\n",
       "      <td>...</td>\n",
       "      <td>...</td>\n",
       "      <td>...</td>\n",
       "      <td>...</td>\n",
       "      <td>...</td>\n",
       "    </tr>\n",
       "    <tr>\n",
       "      <th>1435353</th>\n",
       "      <td>2</td>\n",
       "      <td>2022-12-01 19:18:00</td>\n",
       "      <td>0.005</td>\n",
       "      <td>CA</td>\n",
       "      <td>55.0</td>\n",
       "      <td>55.0</td>\n",
       "      <td>69.0</td>\n",
       "      <td>29.18</td>\n",
       "      <td>10.0</td>\n",
       "      <td>SSE</td>\n",
       "      <td>...</td>\n",
       "      <td>Night</td>\n",
       "      <td>2022</td>\n",
       "      <td>12</td>\n",
       "      <td>1</td>\n",
       "      <td>19</td>\n",
       "      <td>3</td>\n",
       "      <td>Weekday</td>\n",
       "      <td>Winter</td>\n",
       "      <td>Evening</td>\n",
       "      <td>0 days 01:21:50</td>\n",
       "    </tr>\n",
       "    <tr>\n",
       "      <th>1435354</th>\n",
       "      <td>2</td>\n",
       "      <td>2022-05-20 14:23:46</td>\n",
       "      <td>0.218</td>\n",
       "      <td>CA</td>\n",
       "      <td>67.0</td>\n",
       "      <td>67.0</td>\n",
       "      <td>66.0</td>\n",
       "      <td>29.70</td>\n",
       "      <td>10.0</td>\n",
       "      <td>S</td>\n",
       "      <td>...</td>\n",
       "      <td>Day</td>\n",
       "      <td>2022</td>\n",
       "      <td>5</td>\n",
       "      <td>20</td>\n",
       "      <td>14</td>\n",
       "      <td>4</td>\n",
       "      <td>Weekday</td>\n",
       "      <td>Spring</td>\n",
       "      <td>Afternoon</td>\n",
       "      <td>0 days 02:56:50</td>\n",
       "    </tr>\n",
       "    <tr>\n",
       "      <th>1435355</th>\n",
       "      <td>2</td>\n",
       "      <td>2022-02-01 16:01:49</td>\n",
       "      <td>0.114</td>\n",
       "      <td>NC</td>\n",
       "      <td>52.0</td>\n",
       "      <td>52.0</td>\n",
       "      <td>41.0</td>\n",
       "      <td>29.61</td>\n",
       "      <td>10.0</td>\n",
       "      <td>CALM</td>\n",
       "      <td>...</td>\n",
       "      <td>Day</td>\n",
       "      <td>2022</td>\n",
       "      <td>2</td>\n",
       "      <td>1</td>\n",
       "      <td>16</td>\n",
       "      <td>1</td>\n",
       "      <td>Weekday</td>\n",
       "      <td>Winter</td>\n",
       "      <td>Evening</td>\n",
       "      <td>0 days 00:41:47</td>\n",
       "    </tr>\n",
       "    <tr>\n",
       "      <th>1435356</th>\n",
       "      <td>2</td>\n",
       "      <td>2022-01-04 16:33:30</td>\n",
       "      <td>0.311</td>\n",
       "      <td>NC</td>\n",
       "      <td>45.0</td>\n",
       "      <td>41.0</td>\n",
       "      <td>39.0</td>\n",
       "      <td>29.56</td>\n",
       "      <td>10.0</td>\n",
       "      <td>SE</td>\n",
       "      <td>...</td>\n",
       "      <td>Day</td>\n",
       "      <td>2022</td>\n",
       "      <td>1</td>\n",
       "      <td>4</td>\n",
       "      <td>16</td>\n",
       "      <td>1</td>\n",
       "      <td>Weekday</td>\n",
       "      <td>Winter</td>\n",
       "      <td>Evening</td>\n",
       "      <td>0 days 02:38:49</td>\n",
       "    </tr>\n",
       "    <tr>\n",
       "      <th>1435357</th>\n",
       "      <td>2</td>\n",
       "      <td>2022-03-15 17:10:08</td>\n",
       "      <td>0.146</td>\n",
       "      <td>FL</td>\n",
       "      <td>74.0</td>\n",
       "      <td>74.0</td>\n",
       "      <td>87.0</td>\n",
       "      <td>30.05</td>\n",
       "      <td>2.0</td>\n",
       "      <td>ESE</td>\n",
       "      <td>...</td>\n",
       "      <td>Day</td>\n",
       "      <td>2022</td>\n",
       "      <td>3</td>\n",
       "      <td>15</td>\n",
       "      <td>17</td>\n",
       "      <td>1</td>\n",
       "      <td>Weekday</td>\n",
       "      <td>Spring</td>\n",
       "      <td>Evening</td>\n",
       "      <td>0 days 02:01:51</td>\n",
       "    </tr>\n",
       "  </tbody>\n",
       "</table>\n",
       "<p>1435358 rows × 23 columns</p>\n",
       "</div>"
      ],
      "text/plain": [
       "         Severity          Start_Time  Distance(mi) State  Temperature(F)  \\\n",
       "0               1 2022-09-08 05:49:30         0.000    IL            58.0   \n",
       "1               1 2022-09-08 02:02:05         0.000    CA            86.0   \n",
       "2               1 2022-09-08 05:14:12         0.000    VA            68.0   \n",
       "3               1 2022-09-08 06:22:57         0.000    OH            62.0   \n",
       "4               2 2022-09-08 06:36:20         1.910    OH            63.0   \n",
       "...           ...                 ...           ...   ...             ...   \n",
       "1435353         2 2022-12-01 19:18:00         0.005    CA            55.0   \n",
       "1435354         2 2022-05-20 14:23:46         0.218    CA            67.0   \n",
       "1435355         2 2022-02-01 16:01:49         0.114    NC            52.0   \n",
       "1435356         2 2022-01-04 16:33:30         0.311    NC            45.0   \n",
       "1435357         2 2022-03-15 17:10:08         0.146    FL            74.0   \n",
       "\n",
       "         Wind_Chill(F)  Humidity(%)  Pressure(in)  Visibility(mi)  \\\n",
       "0                 58.0         90.0         29.24            10.0   \n",
       "1                 86.0         28.0         27.35            10.0   \n",
       "2                 68.0         96.0         29.71            10.0   \n",
       "3                 62.0         86.0         28.71             7.0   \n",
       "4                 63.0         87.0         29.37             7.0   \n",
       "...                ...          ...           ...             ...   \n",
       "1435353           55.0         69.0         29.18            10.0   \n",
       "1435354           67.0         66.0         29.70            10.0   \n",
       "1435355           52.0         41.0         29.61            10.0   \n",
       "1435356           41.0         39.0         29.56            10.0   \n",
       "1435357           74.0         87.0         30.05             2.0   \n",
       "\n",
       "        Wind_Direction  ...  Sunrise_Sunset  Year Month Day  Hour  \\\n",
       "0                 CALM  ...           Night  2022     9   8     5   \n",
       "1                    W  ...           Night  2022     9   8     2   \n",
       "2                    N  ...           Night  2022     9   8     5   \n",
       "3                  NNE  ...           Night  2022     9   8     6   \n",
       "4                  SSE  ...           Night  2022     9   8     6   \n",
       "...                ...  ...             ...   ...   ...  ..   ...   \n",
       "1435353            SSE  ...           Night  2022    12   1    19   \n",
       "1435354              S  ...             Day  2022     5  20    14   \n",
       "1435355           CALM  ...             Day  2022     2   1    16   \n",
       "1435356             SE  ...             Day  2022     1   4    16   \n",
       "1435357            ESE  ...             Day  2022     3  15    17   \n",
       "\n",
       "         Day_of_Week  Day_Type  Season  Time_Of_Day        Duration  \n",
       "0                  3   Weekday  Autumn      Morning 0 days 00:45:23  \n",
       "1                  3   Weekday  Autumn        Night 0 days 02:29:27  \n",
       "2                  3   Weekday  Autumn      Morning 0 days 02:24:05  \n",
       "3                  3   Weekday  Autumn      Morning 0 days 00:29:45  \n",
       "4                  3   Weekday  Autumn      Morning 0 days 00:29:38  \n",
       "...              ...       ...     ...          ...             ...  \n",
       "1435353            3   Weekday  Winter      Evening 0 days 01:21:50  \n",
       "1435354            4   Weekday  Spring    Afternoon 0 days 02:56:50  \n",
       "1435355            1   Weekday  Winter      Evening 0 days 00:41:47  \n",
       "1435356            1   Weekday  Winter      Evening 0 days 02:38:49  \n",
       "1435357            1   Weekday  Spring      Evening 0 days 02:01:51  \n",
       "\n",
       "[1435358 rows x 23 columns]"
      ]
     },
     "execution_count": 12,
     "metadata": {},
     "output_type": "execute_result"
    }
   ],
   "source": [
    "chosen_data"
   ]
  },
  {
   "cell_type": "code",
   "execution_count": 13,
   "id": "f3f962b3",
   "metadata": {
    "execution": {
     "iopub.execute_input": "2023-12-03T17:59:55.273736Z",
     "iopub.status.busy": "2023-12-03T17:59:55.272771Z",
     "iopub.status.idle": "2023-12-03T17:59:55.294448Z",
     "shell.execute_reply": "2023-12-03T17:59:55.293198Z"
    },
    "papermill": {
     "duration": 0.043541,
     "end_time": "2023-12-03T17:59:55.297873",
     "exception": false,
     "start_time": "2023-12-03T17:59:55.254332",
     "status": "completed"
    },
    "tags": []
   },
   "outputs": [],
   "source": [
    "chosen_data['Duration'] = chosen_data['Duration'].dt.total_seconds() / 60\n",
    "\n"
   ]
  },
  {
   "cell_type": "code",
   "execution_count": 14,
   "id": "e2221849",
   "metadata": {
    "execution": {
     "iopub.execute_input": "2023-12-03T17:59:55.334725Z",
     "iopub.status.busy": "2023-12-03T17:59:55.334286Z",
     "iopub.status.idle": "2023-12-03T17:59:55.340727Z",
     "shell.execute_reply": "2023-12-03T17:59:55.339879Z"
    },
    "papermill": {
     "duration": 0.027861,
     "end_time": "2023-12-03T17:59:55.343205",
     "exception": false,
     "start_time": "2023-12-03T17:59:55.315344",
     "status": "completed"
    },
    "tags": []
   },
   "outputs": [
    {
     "data": {
      "text/plain": [
       "Index(['Severity', 'Start_Time', 'Distance(mi)', 'State', 'Temperature(F)',\n",
       "       'Wind_Chill(F)', 'Humidity(%)', 'Pressure(in)', 'Visibility(mi)',\n",
       "       'Wind_Direction', 'Wind_Speed(mph)', 'Precipitation(in)',\n",
       "       'Weather_Condition', 'Sunrise_Sunset', 'Year', 'Month', 'Day', 'Hour',\n",
       "       'Day_of_Week', 'Day_Type', 'Season', 'Time_Of_Day', 'Duration'],\n",
       "      dtype='object')"
      ]
     },
     "execution_count": 14,
     "metadata": {},
     "output_type": "execute_result"
    }
   ],
   "source": [
    "chosen_data.columns"
   ]
  },
  {
   "cell_type": "code",
   "execution_count": 15,
   "id": "6cee45c2",
   "metadata": {
    "execution": {
     "iopub.execute_input": "2023-12-03T17:59:55.389190Z",
     "iopub.status.busy": "2023-12-03T17:59:55.387804Z",
     "iopub.status.idle": "2023-12-03T17:59:55.621127Z",
     "shell.execute_reply": "2023-12-03T17:59:55.619138Z"
    },
    "papermill": {
     "duration": 0.258821,
     "end_time": "2023-12-03T17:59:55.625122",
     "exception": false,
     "start_time": "2023-12-03T17:59:55.366301",
     "status": "completed"
    },
    "tags": []
   },
   "outputs": [],
   "source": [
    "chosen_data=chosen_data.drop('Start_Time',axis=1)"
   ]
  },
  {
   "cell_type": "code",
   "execution_count": 16,
   "id": "a9a7052d",
   "metadata": {
    "execution": {
     "iopub.execute_input": "2023-12-03T17:59:55.662825Z",
     "iopub.status.busy": "2023-12-03T17:59:55.662211Z",
     "iopub.status.idle": "2023-12-03T17:59:55.672287Z",
     "shell.execute_reply": "2023-12-03T17:59:55.671115Z"
    },
    "papermill": {
     "duration": 0.033034,
     "end_time": "2023-12-03T17:59:55.676221",
     "exception": false,
     "start_time": "2023-12-03T17:59:55.643187",
     "status": "completed"
    },
    "tags": []
   },
   "outputs": [
    {
     "data": {
      "text/plain": [
       "Index(['Severity', 'Distance(mi)', 'State', 'Temperature(F)', 'Wind_Chill(F)',\n",
       "       'Humidity(%)', 'Pressure(in)', 'Visibility(mi)', 'Wind_Direction',\n",
       "       'Wind_Speed(mph)', 'Precipitation(in)', 'Weather_Condition',\n",
       "       'Sunrise_Sunset', 'Year', 'Month', 'Day', 'Hour', 'Day_of_Week',\n",
       "       'Day_Type', 'Season', 'Time_Of_Day', 'Duration'],\n",
       "      dtype='object')"
      ]
     },
     "execution_count": 16,
     "metadata": {},
     "output_type": "execute_result"
    }
   ],
   "source": [
    "chosen_data.columns"
   ]
  },
  {
   "cell_type": "markdown",
   "id": "190836d0",
   "metadata": {
    "papermill": {
     "duration": 0.027738,
     "end_time": "2023-12-03T17:59:55.733328",
     "exception": false,
     "start_time": "2023-12-03T17:59:55.705590",
     "status": "completed"
    },
    "tags": []
   },
   "source": [
    "### Changing the Wind_Direction classes to lesser number of classes by combining similar classes together. It had 18 classes first now it just has 6."
   ]
  },
  {
   "cell_type": "code",
   "execution_count": 17,
   "id": "bc31ba1a",
   "metadata": {
    "execution": {
     "iopub.execute_input": "2023-12-03T17:59:55.792551Z",
     "iopub.status.busy": "2023-12-03T17:59:55.791983Z",
     "iopub.status.idle": "2023-12-03T17:59:57.254942Z",
     "shell.execute_reply": "2023-12-03T17:59:57.253646Z"
    },
    "papermill": {
     "duration": 1.497053,
     "end_time": "2023-12-03T17:59:57.258894",
     "exception": false,
     "start_time": "2023-12-03T17:59:55.761841",
     "status": "completed"
    },
    "tags": []
   },
   "outputs": [],
   "source": [
    "\n",
    "chosen_data['Wind_Direction'] = chosen_data['Wind_Direction'].replace({'NNW': 'N', 'NNE': 'N','NE':'N','NW':'N',\n",
    "                                                     'SSW': 'S', 'SSE': 'S','SW':'S','SE':'S',\n",
    "                                                     'WNW': 'W', 'WSW': 'W',\n",
    "                                                     'ENE': 'E', 'ESE': 'E'})\n",
    "\n",
    "\n"
   ]
  },
  {
   "cell_type": "code",
   "execution_count": 18,
   "id": "3f9912e1",
   "metadata": {
    "execution": {
     "iopub.execute_input": "2023-12-03T17:59:57.321348Z",
     "iopub.status.busy": "2023-12-03T17:59:57.319814Z",
     "iopub.status.idle": "2023-12-03T17:59:57.497174Z",
     "shell.execute_reply": "2023-12-03T17:59:57.495256Z"
    },
    "papermill": {
     "duration": 0.213557,
     "end_time": "2023-12-03T17:59:57.501412",
     "exception": false,
     "start_time": "2023-12-03T17:59:57.287855",
     "status": "completed"
    },
    "tags": []
   },
   "outputs": [
    {
     "name": "stdout",
     "output_type": "stream",
     "text": [
      "['Fair' 'Mostly Cloudy' 'Partly Cloudy' 'Cloudy' nan 'Fog' 'Haze'\n",
      " 'Light Rain' 'Thunder in the Vicinity' 'Rain' 'Heavy Rain'\n",
      " 'Heavy Rain / Windy' 'Fair / Windy' 'Light Rain with Thunder' 'Smoke'\n",
      " 'Thunder' 'Shallow Fog' 'Patches of Fog' 'Light Drizzle'\n",
      " 'Showers in the Vicinity' 'T-Storm' 'Thunder / Windy'\n",
      " 'Heavy T-Storm / Windy' 'Heavy T-Storm' 'Drizzle' 'Light Rain / Windy'\n",
      " 'Mist' 'Mostly Cloudy / Windy' 'N/A Precipitation' 'Light Rain Shower'\n",
      " 'Partly Cloudy / Windy' 'Cloudy / Windy' 'Drizzle and Fog'\n",
      " 'T-Storm / Windy' 'Rain / Windy' 'Blowing Dust' 'Heavy Drizzle'\n",
      " 'Smoke / Windy' 'Haze / Windy' 'Tornado' 'Light Snow' 'Snow'\n",
      " 'Light Drizzle / Windy' 'Blowing Dust / Windy' 'Widespread Dust / Windy'\n",
      " 'Wintry Mix' 'Light Snow / Windy' 'Wintry Mix / Windy'\n",
      " 'Light Snow with Thunder' 'Fog / Windy' 'Snow and Thunder' 'Heavy Snow'\n",
      " 'Light Snow Shower' 'Sleet' 'Light Snow and Sleet' 'Snow / Windy'\n",
      " 'Rain Shower' 'Light Freezing Rain' 'Snow and Sleet' 'Light Sleet'\n",
      " 'Light Freezing Drizzle' 'Heavy Snow / Windy' 'Freezing Drizzle'\n",
      " 'Light Freezing Rain / Windy' 'Thunder / Wintry Mix'\n",
      " 'Blowing Snow / Windy' 'Freezing Rain' 'Light Snow and Sleet / Windy'\n",
      " 'Snow and Sleet / Windy' 'Sleet / Windy' 'Heavy Freezing Rain / Windy'\n",
      " 'Heavy Freezing Rain' 'Blowing Snow' 'Widespread Dust' 'Mist / Windy'\n",
      " 'Rain Shower / Windy' 'Freezing Rain / Windy' 'Hail'\n",
      " 'Thunder / Wintry Mix / Windy' 'Heavy Snow with Thunder'\n",
      " 'Sleet and Thunder' 'Heavy Freezing Drizzle' 'Small Hail'\n",
      " 'Drifting Snow / Windy' 'Light Sleet / Windy' 'Sand / Dust Whirls Nearby'\n",
      " 'Thunder and Hail' 'Shallow Fog / Windy' 'Squalls / Windy'\n",
      " 'Light Rain Shower / Windy' 'Funnel Cloud' 'Heavy Sleet'\n",
      " 'Thunder and Hail / Windy' 'Heavy Sleet and Thunder'\n",
      " 'Light Snow Shower / Windy' 'Sand / Dust Whirlwinds'\n",
      " 'Heavy Sleet / Windy' 'Squalls' 'Drizzle / Windy']\n"
     ]
    }
   ],
   "source": [
    "import pandas as pd\n",
    "\n",
    "# Assuming your DataFrame is named chosen_data\n",
    "unique_weather_conditions = chosen_data['Weather_Condition'].unique()\n",
    "print(unique_weather_conditions)\n"
   ]
  },
  {
   "cell_type": "code",
   "execution_count": 19,
   "id": "c0aded49",
   "metadata": {
    "execution": {
     "iopub.execute_input": "2023-12-03T17:59:57.563021Z",
     "iopub.status.busy": "2023-12-03T17:59:57.561725Z",
     "iopub.status.idle": "2023-12-03T17:59:57.569679Z",
     "shell.execute_reply": "2023-12-03T17:59:57.568684Z"
    },
    "papermill": {
     "duration": 0.041442,
     "end_time": "2023-12-03T17:59:57.572320",
     "exception": false,
     "start_time": "2023-12-03T17:59:57.530878",
     "status": "completed"
    },
    "tags": []
   },
   "outputs": [
    {
     "data": {
      "text/plain": [
       "Index(['Severity', 'Distance(mi)', 'State', 'Temperature(F)', 'Wind_Chill(F)',\n",
       "       'Humidity(%)', 'Pressure(in)', 'Visibility(mi)', 'Wind_Direction',\n",
       "       'Wind_Speed(mph)', 'Precipitation(in)', 'Weather_Condition',\n",
       "       'Sunrise_Sunset', 'Year', 'Month', 'Day', 'Hour', 'Day_of_Week',\n",
       "       'Day_Type', 'Season', 'Time_Of_Day', 'Duration'],\n",
       "      dtype='object')"
      ]
     },
     "execution_count": 19,
     "metadata": {},
     "output_type": "execute_result"
    }
   ],
   "source": [
    "chosen_data.columns"
   ]
  },
  {
   "cell_type": "markdown",
   "id": "c5abb811",
   "metadata": {
    "papermill": {
     "duration": 0.016768,
     "end_time": "2023-12-03T17:59:57.606193",
     "exception": false,
     "start_time": "2023-12-03T17:59:57.589425",
     "status": "completed"
    },
    "tags": []
   },
   "source": [
    "### Chnaging weather conditions to 9 classes:’Clear’, ’Cloud’, ’Rain’, ’Heavy Rain’, ’Snow’, ’Heavy Snow’, ’Fog’, \"Windy\", and 'Others'"
   ]
  },
  {
   "cell_type": "code",
   "execution_count": 20,
   "id": "1e16096e",
   "metadata": {
    "execution": {
     "iopub.execute_input": "2023-12-03T17:59:57.642506Z",
     "iopub.status.busy": "2023-12-03T17:59:57.641955Z",
     "iopub.status.idle": "2023-12-03T18:00:07.784596Z",
     "shell.execute_reply": "2023-12-03T18:00:07.783436Z"
    },
    "papermill": {
     "duration": 10.164369,
     "end_time": "2023-12-03T18:00:07.787638",
     "exception": false,
     "start_time": "2023-12-03T17:59:57.623269",
     "status": "completed"
    },
    "tags": []
   },
   "outputs": [],
   "source": [
    "import pandas as pd\n",
    "\n",
    "weather_mapping = {\n",
    "    'Fair': 'Clear',\n",
    "    'Mostly Cloudy': 'Cloud',\n",
    "    'Partly Cloudy': 'Cloud',\n",
    "    'Cloudy': 'Cloud',\n",
    "    'nan': 'Others',  \n",
    "    'Fog': 'Fog',\n",
    "    'Haze': 'Fog',\n",
    "    'Light Rain': 'Rain',\n",
    "    'Thunder in the Vicinity': 'Rain',\n",
    "    'Rain': 'Rain',\n",
    "    'Heavy Rain': 'Heavy Rain',\n",
    "    'Heavy Rain / Windy': 'Windy',\n",
    "    'Fair / Windy': 'Windy',\n",
    "    'Light Rain with Thunder': 'Rain',\n",
    "    'Smoke': 'Others',  \n",
    "    'Thunder': 'Rain',\n",
    "    'Shallow Fog': 'Fog',\n",
    "    'Patches of Fog': 'Fog',\n",
    "    'Light Drizzle': 'Rain',\n",
    "    'Showers in the Vicinity': 'Rain',\n",
    "    'T-Storm': 'Rain',\n",
    "    'Thunder / Windy': 'Windy',\n",
    "    'Heavy T-Storm / Windy': 'Windy',\n",
    "    'Heavy T-Storm': 'Heavy Rain',\n",
    "    'Drizzle': 'Rain',\n",
    "    'Light Rain / Windy': 'Windy',\n",
    "    'Mist': 'Others',  \n",
    "    'Mostly Cloudy / Windy': 'Windy',\n",
    "    'N/A Precipitation': 'Others',  \n",
    "    'Light Rain Shower': 'Rain',\n",
    "    'Partly Cloudy / Windy': 'Windy',\n",
    "    'Cloudy / Windy': 'Windy',\n",
    "    'Drizzle and Fog': 'Rain',\n",
    "    'T-Storm / Windy': 'Windy',\n",
    "    'Rain / Windy': 'Windy',\n",
    "    'Blowing Dust': 'Windy',\n",
    "    'Heavy Drizzle': 'Rain',\n",
    "    'Smoke / Windy': 'Windy',\n",
    "    'Haze / Windy': 'Windy',\n",
    "    'Tornado': 'Others', \n",
    "    'Light Snow': 'Snow',\n",
    "    'Snow': 'Snow',\n",
    "    'Light Drizzle / Windy': 'Windy',\n",
    "    'Blowing Dust / Windy': 'Windy',\n",
    "    'Widespread Dust / Windy': 'Windy',\n",
    "    'Wintry Mix': 'Snow',\n",
    "    'Light Snow / Windy': 'Snow',\n",
    "    'Wintry Mix / Windy': 'Snow',  \n",
    "    'Light Snow with Thunder': 'Snow',\n",
    "    'Fog / Windy': 'Windy',\n",
    "    'Snow and Thunder': 'Snow',\n",
    "    'Heavy Snow': 'Heavy Snow',\n",
    "    'Light Snow Shower': 'Snow',\n",
    "    'Sleet': 'Snow',\n",
    "    'Light Snow and Sleet': 'Snow',\n",
    "    'Snow / Windy': 'Windy',  \n",
    "    'Rain Shower': 'Rain',\n",
    "    'Light Freezing Rain': 'Snow',\n",
    "    'Snow and Sleet': 'Snow',\n",
    "    'Light Sleet': 'Snow',\n",
    "    'Light Freezing Drizzle': 'Snow',\n",
    "    'Heavy Snow / Windy': 'Windy',  \n",
    "    'Freezing Drizzle': 'Snow',\n",
    "    'Light Freezing Rain / Windy': 'Windy',\n",
    "    'Thunder / Wintry Mix': 'Rain',\n",
    "    'Blowing Snow / Windy': 'Windy',\n",
    "    'Freezing Rain': 'Snow',\n",
    "    'Light Snow Shower / Windy': 'Windy',  \n",
    "    'Partial Fog': 'Fog',\n",
    "    'Rain Shower / Windy': 'Windy',\n",
    "    'Hail': 'Heavy Rain',  \n",
    "    'Thunder / Wintry Mix / Windy': 'Windy',\n",
    "    'Heavy Snow with Thunder': 'Heavy Snow',\n",
    "    'Sleet and Thunder': 'Snow',\n",
    "    'Heavy Freezing Drizzle': 'Snow',\n",
    "    'Drifting Snow / Windy': 'Windy',\n",
    "    'Shallow Fog / Windy': 'Windy',\n",
    "    'Funnel Cloud': 'Others',  \n",
    "    'Thunder and Hail / Windy': 'Heavy Rain',\n",
    "    'Heavy Sleet and Thunder': 'Snow',\n",
    "    'Heavy Sleet / Windy': 'Windy',\n",
    "    'Squalls': 'Windy',\n",
    "    'Sand / Windy': 'Windy',\n",
    "    'Heavy Rain Shower / Windy': 'Windy',\n",
    "    'Sand / Dust Whirlwinds / Windy': 'Windy',\n",
    "    'Snow Grains': 'Snow',\n",
    "    'Blowing Sand': 'Windy',\n",
    "    'Heavy Freezing Rain / Windy':'Snow',\n",
    "    'Snow and Thunder / Windy':'Snow',\n",
    "    'Light Rain Shower / Windy':'Snow',\n",
    "    'Duststorm':'Others',\n",
    "    'Sand / Dust Whirls Nearby':'Others',\n",
    "    'Heavy Freezing Rain':'Snow',\n",
    "    'Drizzle / Windy':'Rain',\n",
    "    'Light Sleet / Windy':'Windy',\n",
    "    'Mist / Windy':'Windy',\n",
    "    'Freezing Rain / Windy':'Snow',\n",
    "    'Thunder and Hail':'Heavy Rain',\n",
    "    'Sand / Dust Whirlwinds':'Others',\n",
    "    'Sleet / Windy':'Snow',\n",
    "    'Squalls / Windy':'Windy',\n",
    "    'Heavy Sleet':'Snow',\n",
    "    'Small Hail':'Heavy Rain',\n",
    "    'Snow and Sleet / Windy':'Snow',\n",
    "    'Blowing Snow':'Snow',\n",
    "    'Widespread Dust':'Others',\n",
    "    'Light Snow and Sleet / Windy':'Snow',\n",
    "    'Unknown':'Others'\n",
    "    \n",
    "}\n",
    "chosen_data['Weather_Condition'] = chosen_data['Weather_Condition'].replace(weather_mapping)\n",
    "\n",
    "\n",
    "\n"
   ]
  },
  {
   "cell_type": "markdown",
   "id": "e7fd24fa",
   "metadata": {
    "papermill": {
     "duration": 0.016709,
     "end_time": "2023-12-03T18:00:07.821509",
     "exception": false,
     "start_time": "2023-12-03T18:00:07.804800",
     "status": "completed"
    },
    "tags": []
   },
   "source": [
    "### Checking for missing data"
   ]
  },
  {
   "cell_type": "code",
   "execution_count": 21,
   "id": "f7de9542",
   "metadata": {
    "execution": {
     "iopub.execute_input": "2023-12-03T18:00:07.859215Z",
     "iopub.status.busy": "2023-12-03T18:00:07.858743Z",
     "iopub.status.idle": "2023-12-03T18:00:07.866382Z",
     "shell.execute_reply": "2023-12-03T18:00:07.865039Z"
    },
    "papermill": {
     "duration": 0.029721,
     "end_time": "2023-12-03T18:00:07.868878",
     "exception": false,
     "start_time": "2023-12-03T18:00:07.839157",
     "status": "completed"
    },
    "tags": []
   },
   "outputs": [],
   "source": [
    "def check_missing_data(df):\n",
    "    missing_data = df.isnull().sum().sort_values(ascending=False)\n",
    "    percent_missing = ((df.isnull().sum()/df.isnull().count())*100).sort_values(ascending=False)\n",
    "    missing_data = pd.concat([missing_data, percent_missing], axis=1, keys=['Total', 'Percent'])\n",
    "    return missing_data"
   ]
  },
  {
   "cell_type": "code",
   "execution_count": 22,
   "id": "01fa2a10",
   "metadata": {
    "execution": {
     "iopub.execute_input": "2023-12-03T18:00:07.905994Z",
     "iopub.status.busy": "2023-12-03T18:00:07.905567Z",
     "iopub.status.idle": "2023-12-03T18:00:11.054414Z",
     "shell.execute_reply": "2023-12-03T18:00:11.053165Z"
    },
    "papermill": {
     "duration": 3.1704,
     "end_time": "2023-12-03T18:00:11.057293",
     "exception": false,
     "start_time": "2023-12-03T18:00:07.886893",
     "status": "completed"
    },
    "tags": []
   },
   "outputs": [
    {
     "data": {
      "text/html": [
       "<div>\n",
       "<style scoped>\n",
       "    .dataframe tbody tr th:only-of-type {\n",
       "        vertical-align: middle;\n",
       "    }\n",
       "\n",
       "    .dataframe tbody tr th {\n",
       "        vertical-align: top;\n",
       "    }\n",
       "\n",
       "    .dataframe thead th {\n",
       "        text-align: right;\n",
       "    }\n",
       "</style>\n",
       "<table border=\"1\" class=\"dataframe\">\n",
       "  <thead>\n",
       "    <tr style=\"text-align: right;\">\n",
       "      <th></th>\n",
       "      <th>Total</th>\n",
       "      <th>Percent</th>\n",
       "    </tr>\n",
       "  </thead>\n",
       "  <tbody>\n",
       "    <tr>\n",
       "      <th>Precipitation(in)</th>\n",
       "      <td>53334</td>\n",
       "      <td>3.715728</td>\n",
       "    </tr>\n",
       "    <tr>\n",
       "      <th>Wind_Chill(F)</th>\n",
       "      <td>43999</td>\n",
       "      <td>3.065368</td>\n",
       "    </tr>\n",
       "    <tr>\n",
       "      <th>Wind_Direction</th>\n",
       "      <td>39296</td>\n",
       "      <td>2.737714</td>\n",
       "    </tr>\n",
       "    <tr>\n",
       "      <th>Wind_Speed(mph)</th>\n",
       "      <td>39289</td>\n",
       "      <td>2.737227</td>\n",
       "    </tr>\n",
       "    <tr>\n",
       "      <th>Visibility(mi)</th>\n",
       "      <td>34116</td>\n",
       "      <td>2.376829</td>\n",
       "    </tr>\n",
       "    <tr>\n",
       "      <th>Humidity(%)</th>\n",
       "      <td>33532</td>\n",
       "      <td>2.336142</td>\n",
       "    </tr>\n",
       "    <tr>\n",
       "      <th>Weather_Condition</th>\n",
       "      <td>31567</td>\n",
       "      <td>2.199242</td>\n",
       "    </tr>\n",
       "    <tr>\n",
       "      <th>Temperature(F)</th>\n",
       "      <td>31388</td>\n",
       "      <td>2.186772</td>\n",
       "    </tr>\n",
       "    <tr>\n",
       "      <th>Pressure(in)</th>\n",
       "      <td>27067</td>\n",
       "      <td>1.885732</td>\n",
       "    </tr>\n",
       "    <tr>\n",
       "      <th>Sunrise_Sunset</th>\n",
       "      <td>11763</td>\n",
       "      <td>0.819517</td>\n",
       "    </tr>\n",
       "    <tr>\n",
       "      <th>Hour</th>\n",
       "      <td>0</td>\n",
       "      <td>0.000000</td>\n",
       "    </tr>\n",
       "    <tr>\n",
       "      <th>Time_Of_Day</th>\n",
       "      <td>0</td>\n",
       "      <td>0.000000</td>\n",
       "    </tr>\n",
       "    <tr>\n",
       "      <th>Season</th>\n",
       "      <td>0</td>\n",
       "      <td>0.000000</td>\n",
       "    </tr>\n",
       "    <tr>\n",
       "      <th>Day_Type</th>\n",
       "      <td>0</td>\n",
       "      <td>0.000000</td>\n",
       "    </tr>\n",
       "    <tr>\n",
       "      <th>Day_of_Week</th>\n",
       "      <td>0</td>\n",
       "      <td>0.000000</td>\n",
       "    </tr>\n",
       "    <tr>\n",
       "      <th>Severity</th>\n",
       "      <td>0</td>\n",
       "      <td>0.000000</td>\n",
       "    </tr>\n",
       "    <tr>\n",
       "      <th>Day</th>\n",
       "      <td>0</td>\n",
       "      <td>0.000000</td>\n",
       "    </tr>\n",
       "    <tr>\n",
       "      <th>Month</th>\n",
       "      <td>0</td>\n",
       "      <td>0.000000</td>\n",
       "    </tr>\n",
       "    <tr>\n",
       "      <th>Year</th>\n",
       "      <td>0</td>\n",
       "      <td>0.000000</td>\n",
       "    </tr>\n",
       "    <tr>\n",
       "      <th>Distance(mi)</th>\n",
       "      <td>0</td>\n",
       "      <td>0.000000</td>\n",
       "    </tr>\n",
       "    <tr>\n",
       "      <th>State</th>\n",
       "      <td>0</td>\n",
       "      <td>0.000000</td>\n",
       "    </tr>\n",
       "    <tr>\n",
       "      <th>Duration</th>\n",
       "      <td>0</td>\n",
       "      <td>0.000000</td>\n",
       "    </tr>\n",
       "  </tbody>\n",
       "</table>\n",
       "</div>"
      ],
      "text/plain": [
       "                   Total   Percent\n",
       "Precipitation(in)  53334  3.715728\n",
       "Wind_Chill(F)      43999  3.065368\n",
       "Wind_Direction     39296  2.737714\n",
       "Wind_Speed(mph)    39289  2.737227\n",
       "Visibility(mi)     34116  2.376829\n",
       "Humidity(%)        33532  2.336142\n",
       "Weather_Condition  31567  2.199242\n",
       "Temperature(F)     31388  2.186772\n",
       "Pressure(in)       27067  1.885732\n",
       "Sunrise_Sunset     11763  0.819517\n",
       "Hour                   0  0.000000\n",
       "Time_Of_Day            0  0.000000\n",
       "Season                 0  0.000000\n",
       "Day_Type               0  0.000000\n",
       "Day_of_Week            0  0.000000\n",
       "Severity               0  0.000000\n",
       "Day                    0  0.000000\n",
       "Month                  0  0.000000\n",
       "Year                   0  0.000000\n",
       "Distance(mi)           0  0.000000\n",
       "State                  0  0.000000\n",
       "Duration               0  0.000000"
      ]
     },
     "execution_count": 22,
     "metadata": {},
     "output_type": "execute_result"
    }
   ],
   "source": [
    "check_missing_data(chosen_data)"
   ]
  },
  {
   "cell_type": "markdown",
   "id": "dc5ab25a",
   "metadata": {
    "papermill": {
     "duration": 0.017686,
     "end_time": "2023-12-03T18:00:11.093410",
     "exception": false,
     "start_time": "2023-12-03T18:00:11.075724",
     "status": "completed"
    },
    "tags": []
   },
   "source": [
    "### Using Simple Imputer, filling the columns with missing values "
   ]
  },
  {
   "cell_type": "code",
   "execution_count": 23,
   "id": "b6bc7a76",
   "metadata": {
    "execution": {
     "iopub.execute_input": "2023-12-03T18:00:11.130251Z",
     "iopub.status.busy": "2023-12-03T18:00:11.129804Z",
     "iopub.status.idle": "2023-12-03T18:00:13.876959Z",
     "shell.execute_reply": "2023-12-03T18:00:13.875609Z"
    },
    "papermill": {
     "duration": 2.768974,
     "end_time": "2023-12-03T18:00:13.879882",
     "exception": false,
     "start_time": "2023-12-03T18:00:11.110908",
     "status": "completed"
    },
    "tags": []
   },
   "outputs": [],
   "source": [
    "from sklearn.impute import SimpleImputer\n",
    "imputer = SimpleImputer(strategy='mean')\n",
    "imputing_data=chosen_data.copy()\n",
    "imputing_data[['Precipitation(in)', 'Wind_Speed(mph)','Humidity(%)','Visibility(mi)','Temperature(F)','Pressure(in)','Wind_Chill(F)']]=imputer.fit_transform(imputing_data[['Precipitation(in)', 'Wind_Speed(mph)','Humidity(%)','Visibility(mi)','Temperature(F)','Pressure(in)','Wind_Chill(F)']])"
   ]
  },
  {
   "cell_type": "code",
   "execution_count": 24,
   "id": "358919f2",
   "metadata": {
    "execution": {
     "iopub.execute_input": "2023-12-03T18:00:13.917168Z",
     "iopub.status.busy": "2023-12-03T18:00:13.916748Z",
     "iopub.status.idle": "2023-12-03T18:00:14.559174Z",
     "shell.execute_reply": "2023-12-03T18:00:14.557896Z"
    },
    "papermill": {
     "duration": 0.664528,
     "end_time": "2023-12-03T18:00:14.562151",
     "exception": false,
     "start_time": "2023-12-03T18:00:13.897623",
     "status": "completed"
    },
    "tags": []
   },
   "outputs": [],
   "source": [
    "categorical_imputer = SimpleImputer(strategy='most_frequent')\n",
    "imputing_data[[ 'Wind_Direction','Weather_Condition']]=categorical_imputer.fit_transform(imputing_data[['Wind_Direction','Weather_Condition']])"
   ]
  },
  {
   "cell_type": "code",
   "execution_count": 25,
   "id": "fc1c1b74",
   "metadata": {
    "execution": {
     "iopub.execute_input": "2023-12-03T18:00:14.599469Z",
     "iopub.status.busy": "2023-12-03T18:00:14.599056Z",
     "iopub.status.idle": "2023-12-03T18:00:14.965827Z",
     "shell.execute_reply": "2023-12-03T18:00:14.964402Z"
    },
    "papermill": {
     "duration": 0.388892,
     "end_time": "2023-12-03T18:00:14.968743",
     "exception": false,
     "start_time": "2023-12-03T18:00:14.579851",
     "status": "completed"
    },
    "tags": []
   },
   "outputs": [],
   "source": [
    "imputing_data[['Sunrise_Sunset']]=categorical_imputer.fit_transform(imputing_data[['Sunrise_Sunset']])"
   ]
  },
  {
   "cell_type": "code",
   "execution_count": 26,
   "id": "aa95b5fa",
   "metadata": {
    "execution": {
     "iopub.execute_input": "2023-12-03T18:00:15.005858Z",
     "iopub.status.busy": "2023-12-03T18:00:15.005422Z",
     "iopub.status.idle": "2023-12-03T18:00:18.181572Z",
     "shell.execute_reply": "2023-12-03T18:00:18.180294Z"
    },
    "papermill": {
     "duration": 3.197914,
     "end_time": "2023-12-03T18:00:18.184470",
     "exception": false,
     "start_time": "2023-12-03T18:00:14.986556",
     "status": "completed"
    },
    "tags": []
   },
   "outputs": [
    {
     "data": {
      "text/html": [
       "<div>\n",
       "<style scoped>\n",
       "    .dataframe tbody tr th:only-of-type {\n",
       "        vertical-align: middle;\n",
       "    }\n",
       "\n",
       "    .dataframe tbody tr th {\n",
       "        vertical-align: top;\n",
       "    }\n",
       "\n",
       "    .dataframe thead th {\n",
       "        text-align: right;\n",
       "    }\n",
       "</style>\n",
       "<table border=\"1\" class=\"dataframe\">\n",
       "  <thead>\n",
       "    <tr style=\"text-align: right;\">\n",
       "      <th></th>\n",
       "      <th>Total</th>\n",
       "      <th>Percent</th>\n",
       "    </tr>\n",
       "  </thead>\n",
       "  <tbody>\n",
       "    <tr>\n",
       "      <th>Severity</th>\n",
       "      <td>0</td>\n",
       "      <td>0.0</td>\n",
       "    </tr>\n",
       "    <tr>\n",
       "      <th>Distance(mi)</th>\n",
       "      <td>0</td>\n",
       "      <td>0.0</td>\n",
       "    </tr>\n",
       "    <tr>\n",
       "      <th>Time_Of_Day</th>\n",
       "      <td>0</td>\n",
       "      <td>0.0</td>\n",
       "    </tr>\n",
       "    <tr>\n",
       "      <th>Season</th>\n",
       "      <td>0</td>\n",
       "      <td>0.0</td>\n",
       "    </tr>\n",
       "    <tr>\n",
       "      <th>Day_Type</th>\n",
       "      <td>0</td>\n",
       "      <td>0.0</td>\n",
       "    </tr>\n",
       "    <tr>\n",
       "      <th>Day_of_Week</th>\n",
       "      <td>0</td>\n",
       "      <td>0.0</td>\n",
       "    </tr>\n",
       "    <tr>\n",
       "      <th>Hour</th>\n",
       "      <td>0</td>\n",
       "      <td>0.0</td>\n",
       "    </tr>\n",
       "    <tr>\n",
       "      <th>Day</th>\n",
       "      <td>0</td>\n",
       "      <td>0.0</td>\n",
       "    </tr>\n",
       "    <tr>\n",
       "      <th>Month</th>\n",
       "      <td>0</td>\n",
       "      <td>0.0</td>\n",
       "    </tr>\n",
       "    <tr>\n",
       "      <th>Year</th>\n",
       "      <td>0</td>\n",
       "      <td>0.0</td>\n",
       "    </tr>\n",
       "    <tr>\n",
       "      <th>Sunrise_Sunset</th>\n",
       "      <td>0</td>\n",
       "      <td>0.0</td>\n",
       "    </tr>\n",
       "    <tr>\n",
       "      <th>Weather_Condition</th>\n",
       "      <td>0</td>\n",
       "      <td>0.0</td>\n",
       "    </tr>\n",
       "    <tr>\n",
       "      <th>Precipitation(in)</th>\n",
       "      <td>0</td>\n",
       "      <td>0.0</td>\n",
       "    </tr>\n",
       "    <tr>\n",
       "      <th>Wind_Speed(mph)</th>\n",
       "      <td>0</td>\n",
       "      <td>0.0</td>\n",
       "    </tr>\n",
       "    <tr>\n",
       "      <th>Wind_Direction</th>\n",
       "      <td>0</td>\n",
       "      <td>0.0</td>\n",
       "    </tr>\n",
       "    <tr>\n",
       "      <th>Visibility(mi)</th>\n",
       "      <td>0</td>\n",
       "      <td>0.0</td>\n",
       "    </tr>\n",
       "    <tr>\n",
       "      <th>Pressure(in)</th>\n",
       "      <td>0</td>\n",
       "      <td>0.0</td>\n",
       "    </tr>\n",
       "    <tr>\n",
       "      <th>Humidity(%)</th>\n",
       "      <td>0</td>\n",
       "      <td>0.0</td>\n",
       "    </tr>\n",
       "    <tr>\n",
       "      <th>Wind_Chill(F)</th>\n",
       "      <td>0</td>\n",
       "      <td>0.0</td>\n",
       "    </tr>\n",
       "    <tr>\n",
       "      <th>Temperature(F)</th>\n",
       "      <td>0</td>\n",
       "      <td>0.0</td>\n",
       "    </tr>\n",
       "    <tr>\n",
       "      <th>State</th>\n",
       "      <td>0</td>\n",
       "      <td>0.0</td>\n",
       "    </tr>\n",
       "    <tr>\n",
       "      <th>Duration</th>\n",
       "      <td>0</td>\n",
       "      <td>0.0</td>\n",
       "    </tr>\n",
       "  </tbody>\n",
       "</table>\n",
       "</div>"
      ],
      "text/plain": [
       "                   Total  Percent\n",
       "Severity               0      0.0\n",
       "Distance(mi)           0      0.0\n",
       "Time_Of_Day            0      0.0\n",
       "Season                 0      0.0\n",
       "Day_Type               0      0.0\n",
       "Day_of_Week            0      0.0\n",
       "Hour                   0      0.0\n",
       "Day                    0      0.0\n",
       "Month                  0      0.0\n",
       "Year                   0      0.0\n",
       "Sunrise_Sunset         0      0.0\n",
       "Weather_Condition      0      0.0\n",
       "Precipitation(in)      0      0.0\n",
       "Wind_Speed(mph)        0      0.0\n",
       "Wind_Direction         0      0.0\n",
       "Visibility(mi)         0      0.0\n",
       "Pressure(in)           0      0.0\n",
       "Humidity(%)            0      0.0\n",
       "Wind_Chill(F)          0      0.0\n",
       "Temperature(F)         0      0.0\n",
       "State                  0      0.0\n",
       "Duration               0      0.0"
      ]
     },
     "execution_count": 26,
     "metadata": {},
     "output_type": "execute_result"
    }
   ],
   "source": [
    "check_missing_data(imputing_data)"
   ]
  },
  {
   "cell_type": "code",
   "execution_count": 27,
   "id": "a6228407",
   "metadata": {
    "execution": {
     "iopub.execute_input": "2023-12-03T18:00:18.222786Z",
     "iopub.status.busy": "2023-12-03T18:00:18.222377Z",
     "iopub.status.idle": "2023-12-03T18:00:18.658752Z",
     "shell.execute_reply": "2023-12-03T18:00:18.657435Z"
    },
    "papermill": {
     "duration": 0.45906,
     "end_time": "2023-12-03T18:00:18.661788",
     "exception": false,
     "start_time": "2023-12-03T18:00:18.202728",
     "status": "completed"
    },
    "tags": []
   },
   "outputs": [],
   "source": [
    "catcols = imputing_data.select_dtypes(include='object').columns"
   ]
  },
  {
   "cell_type": "code",
   "execution_count": 28,
   "id": "9785a509",
   "metadata": {
    "execution": {
     "iopub.execute_input": "2023-12-03T18:00:18.700546Z",
     "iopub.status.busy": "2023-12-03T18:00:18.699706Z",
     "iopub.status.idle": "2023-12-03T18:00:42.998234Z",
     "shell.execute_reply": "2023-12-03T18:00:42.997156Z"
    },
    "papermill": {
     "duration": 24.320904,
     "end_time": "2023-12-03T18:00:43.001303",
     "exception": false,
     "start_time": "2023-12-03T18:00:18.680399",
     "status": "completed"
    },
    "tags": []
   },
   "outputs": [],
   "source": [
    "imputing_data.to_csv(\"DATA_WITH_NO_SCALING_ENCODING\")"
   ]
  },
  {
   "cell_type": "code",
   "execution_count": 29,
   "id": "5f798894",
   "metadata": {
    "execution": {
     "iopub.execute_input": "2023-12-03T18:00:43.040304Z",
     "iopub.status.busy": "2023-12-03T18:00:43.038927Z",
     "iopub.status.idle": "2023-12-03T18:00:43.046886Z",
     "shell.execute_reply": "2023-12-03T18:00:43.045782Z"
    },
    "papermill": {
     "duration": 0.029479,
     "end_time": "2023-12-03T18:00:43.049257",
     "exception": false,
     "start_time": "2023-12-03T18:00:43.019778",
     "status": "completed"
    },
    "tags": []
   },
   "outputs": [
    {
     "data": {
      "text/plain": [
       "Index(['State', 'Wind_Direction', 'Weather_Condition', 'Sunrise_Sunset',\n",
       "       'Day_Type', 'Season', 'Time_Of_Day'],\n",
       "      dtype='object')"
      ]
     },
     "execution_count": 29,
     "metadata": {},
     "output_type": "execute_result"
    }
   ],
   "source": [
    "catcols"
   ]
  },
  {
   "cell_type": "markdown",
   "id": "d951684b",
   "metadata": {
    "papermill": {
     "duration": 0.01774,
     "end_time": "2023-12-03T18:00:43.085148",
     "exception": false,
     "start_time": "2023-12-03T18:00:43.067408",
     "status": "completed"
    },
    "tags": []
   },
   "source": [
    "# using one hot encoding to encode the categorical columns"
   ]
  },
  {
   "cell_type": "code",
   "execution_count": 30,
   "id": "f5fdc90b",
   "metadata": {
    "execution": {
     "iopub.execute_input": "2023-12-03T18:00:43.122994Z",
     "iopub.status.busy": "2023-12-03T18:00:43.122569Z",
     "iopub.status.idle": "2023-12-03T18:00:45.038063Z",
     "shell.execute_reply": "2023-12-03T18:00:45.036655Z"
    },
    "papermill": {
     "duration": 1.938115,
     "end_time": "2023-12-03T18:00:45.041224",
     "exception": false,
     "start_time": "2023-12-03T18:00:43.103109",
     "status": "completed"
    },
    "tags": []
   },
   "outputs": [],
   "source": [
    "imputing_data_encoded = pd.get_dummies(imputing_data, columns=catcols)"
   ]
  },
  {
   "cell_type": "code",
   "execution_count": 31,
   "id": "2afe356b",
   "metadata": {
    "execution": {
     "iopub.execute_input": "2023-12-03T18:00:45.080552Z",
     "iopub.status.busy": "2023-12-03T18:00:45.080078Z",
     "iopub.status.idle": "2023-12-03T18:00:45.086439Z",
     "shell.execute_reply": "2023-12-03T18:00:45.085570Z"
    },
    "papermill": {
     "duration": 0.02906,
     "end_time": "2023-12-03T18:00:45.089296",
     "exception": false,
     "start_time": "2023-12-03T18:00:45.060236",
     "status": "completed"
    },
    "tags": []
   },
   "outputs": [
    {
     "name": "stdout",
     "output_type": "stream",
     "text": [
      "Index(['Severity', 'Distance(mi)', 'Temperature(F)', 'Wind_Chill(F)',\n",
      "       'Humidity(%)', 'Pressure(in)', 'Visibility(mi)', 'Wind_Speed(mph)',\n",
      "       'Precipitation(in)', 'Year', 'Month', 'Day', 'Hour', 'Day_of_Week',\n",
      "       'Duration', 'State_AL', 'State_AR', 'State_AZ', 'State_CA', 'State_CO',\n",
      "       'State_CT', 'State_DC', 'State_DE', 'State_FL', 'State_GA', 'State_IA',\n",
      "       'State_ID', 'State_IL', 'State_IN', 'State_KS', 'State_KY', 'State_LA',\n",
      "       'State_MA', 'State_MD', 'State_ME', 'State_MI', 'State_MN', 'State_MO',\n",
      "       'State_MS', 'State_MT', 'State_NC', 'State_ND', 'State_NE', 'State_NH',\n",
      "       'State_NJ', 'State_NM', 'State_NV', 'State_NY', 'State_OH', 'State_OK',\n",
      "       'State_OR', 'State_PA', 'State_RI', 'State_SC', 'State_SD', 'State_TN',\n",
      "       'State_TX', 'State_UT', 'State_VA', 'State_VT', 'State_WA', 'State_WI',\n",
      "       'State_WV', 'State_WY', 'Wind_Direction_CALM', 'Wind_Direction_E',\n",
      "       'Wind_Direction_N', 'Wind_Direction_S', 'Wind_Direction_VAR',\n",
      "       'Wind_Direction_W', 'Weather_Condition_Clear',\n",
      "       'Weather_Condition_Cloud', 'Weather_Condition_Fog',\n",
      "       'Weather_Condition_Heavy Rain', 'Weather_Condition_Heavy Snow',\n",
      "       'Weather_Condition_Others', 'Weather_Condition_Rain',\n",
      "       'Weather_Condition_Snow', 'Weather_Condition_Windy',\n",
      "       'Sunrise_Sunset_Day', 'Sunrise_Sunset_Night', 'Day_Type_Weekday',\n",
      "       'Day_Type_Weekend', 'Season_Autumn', 'Season_Spring', 'Season_Summer',\n",
      "       'Season_Winter', 'Time_Of_Day_Afternoon', 'Time_Of_Day_Evening',\n",
      "       'Time_Of_Day_Morning', 'Time_Of_Day_Night'],\n",
      "      dtype='object')\n"
     ]
    }
   ],
   "source": [
    "print(imputing_data_encoded.columns)\n"
   ]
  },
  {
   "cell_type": "code",
   "execution_count": 32,
   "id": "cb030d5a",
   "metadata": {
    "execution": {
     "iopub.execute_input": "2023-12-03T18:00:45.128990Z",
     "iopub.status.busy": "2023-12-03T18:00:45.128041Z",
     "iopub.status.idle": "2023-12-03T18:01:48.308199Z",
     "shell.execute_reply": "2023-12-03T18:01:48.307074Z"
    },
    "papermill": {
     "duration": 63.203033,
     "end_time": "2023-12-03T18:01:48.311086",
     "exception": false,
     "start_time": "2023-12-03T18:00:45.108053",
     "status": "completed"
    },
    "tags": []
   },
   "outputs": [],
   "source": [
    "imputing_data_encoded.to_csv(\"complete_data_2022_encoded_wo_scaling\")"
   ]
  },
  {
   "cell_type": "code",
   "execution_count": 33,
   "id": "554464a5",
   "metadata": {
    "execution": {
     "iopub.execute_input": "2023-12-03T18:01:48.350205Z",
     "iopub.status.busy": "2023-12-03T18:01:48.349490Z",
     "iopub.status.idle": "2023-12-03T18:01:48.357298Z",
     "shell.execute_reply": "2023-12-03T18:01:48.356169Z"
    },
    "papermill": {
     "duration": 0.030243,
     "end_time": "2023-12-03T18:01:48.359792",
     "exception": false,
     "start_time": "2023-12-03T18:01:48.329549",
     "status": "completed"
    },
    "tags": []
   },
   "outputs": [
    {
     "data": {
      "text/plain": [
       "Index(['Severity', 'Distance(mi)', 'Temperature(F)', 'Wind_Chill(F)',\n",
       "       'Humidity(%)', 'Pressure(in)', 'Visibility(mi)', 'Wind_Speed(mph)',\n",
       "       'Precipitation(in)', 'Year', 'Month', 'Day', 'Hour', 'Day_of_Week',\n",
       "       'Duration', 'State_AL', 'State_AR', 'State_AZ', 'State_CA', 'State_CO',\n",
       "       'State_CT', 'State_DC', 'State_DE', 'State_FL', 'State_GA', 'State_IA',\n",
       "       'State_ID', 'State_IL', 'State_IN', 'State_KS', 'State_KY', 'State_LA',\n",
       "       'State_MA', 'State_MD', 'State_ME', 'State_MI', 'State_MN', 'State_MO',\n",
       "       'State_MS', 'State_MT', 'State_NC', 'State_ND', 'State_NE', 'State_NH',\n",
       "       'State_NJ', 'State_NM', 'State_NV', 'State_NY', 'State_OH', 'State_OK',\n",
       "       'State_OR', 'State_PA', 'State_RI', 'State_SC', 'State_SD', 'State_TN',\n",
       "       'State_TX', 'State_UT', 'State_VA', 'State_VT', 'State_WA', 'State_WI',\n",
       "       'State_WV', 'State_WY', 'Wind_Direction_CALM', 'Wind_Direction_E',\n",
       "       'Wind_Direction_N', 'Wind_Direction_S', 'Wind_Direction_VAR',\n",
       "       'Wind_Direction_W', 'Weather_Condition_Clear',\n",
       "       'Weather_Condition_Cloud', 'Weather_Condition_Fog',\n",
       "       'Weather_Condition_Heavy Rain', 'Weather_Condition_Heavy Snow',\n",
       "       'Weather_Condition_Others', 'Weather_Condition_Rain',\n",
       "       'Weather_Condition_Snow', 'Weather_Condition_Windy',\n",
       "       'Sunrise_Sunset_Day', 'Sunrise_Sunset_Night', 'Day_Type_Weekday',\n",
       "       'Day_Type_Weekend', 'Season_Autumn', 'Season_Spring', 'Season_Summer',\n",
       "       'Season_Winter', 'Time_Of_Day_Afternoon', 'Time_Of_Day_Evening',\n",
       "       'Time_Of_Day_Morning', 'Time_Of_Day_Night'],\n",
       "      dtype='object')"
      ]
     },
     "execution_count": 33,
     "metadata": {},
     "output_type": "execute_result"
    }
   ],
   "source": [
    "imputing_data_encoded.columns"
   ]
  },
  {
   "cell_type": "code",
   "execution_count": 34,
   "id": "64c9b0b7",
   "metadata": {
    "execution": {
     "iopub.execute_input": "2023-12-03T18:01:48.399401Z",
     "iopub.status.busy": "2023-12-03T18:01:48.397930Z",
     "iopub.status.idle": "2023-12-03T18:01:48.531648Z",
     "shell.execute_reply": "2023-12-03T18:01:48.530442Z"
    },
    "papermill": {
     "duration": 0.156372,
     "end_time": "2023-12-03T18:01:48.534482",
     "exception": false,
     "start_time": "2023-12-03T18:01:48.378110",
     "status": "completed"
    },
    "tags": []
   },
   "outputs": [],
   "source": [
    "numeric_cols=imputing_data.select_dtypes(include=['int64','float']).columns"
   ]
  },
  {
   "cell_type": "code",
   "execution_count": 35,
   "id": "9251ac4c",
   "metadata": {
    "execution": {
     "iopub.execute_input": "2023-12-03T18:01:48.573458Z",
     "iopub.status.busy": "2023-12-03T18:01:48.572467Z",
     "iopub.status.idle": "2023-12-03T18:01:48.578494Z",
     "shell.execute_reply": "2023-12-03T18:01:48.577077Z"
    },
    "papermill": {
     "duration": 0.028084,
     "end_time": "2023-12-03T18:01:48.580781",
     "exception": false,
     "start_time": "2023-12-03T18:01:48.552697",
     "status": "completed"
    },
    "tags": []
   },
   "outputs": [],
   "source": [
    "numeric_cols=['Distance(mi)', 'Temperature(F)', 'Wind_Chill(F)',\n",
    "       'Humidity(%)', 'Pressure(in)', 'Visibility(mi)', 'Wind_Speed(mph)',\n",
    "       'Precipitation(in)', 'Duration']"
   ]
  },
  {
   "cell_type": "markdown",
   "id": "4f951411",
   "metadata": {
    "papermill": {
     "duration": 0.017852,
     "end_time": "2023-12-03T18:01:48.617145",
     "exception": false,
     "start_time": "2023-12-03T18:01:48.599293",
     "status": "completed"
    },
    "tags": []
   },
   "source": [
    "# Scaling the data using standard scaler"
   ]
  },
  {
   "cell_type": "code",
   "execution_count": 36,
   "id": "70b9ac8a",
   "metadata": {
    "execution": {
     "iopub.execute_input": "2023-12-03T18:01:48.658196Z",
     "iopub.status.busy": "2023-12-03T18:01:48.657277Z",
     "iopub.status.idle": "2023-12-03T18:01:49.240523Z",
     "shell.execute_reply": "2023-12-03T18:01:49.239255Z"
    },
    "papermill": {
     "duration": 0.607068,
     "end_time": "2023-12-03T18:01:49.243884",
     "exception": false,
     "start_time": "2023-12-03T18:01:48.636816",
     "status": "completed"
    },
    "tags": []
   },
   "outputs": [],
   "source": [
    "from sklearn.preprocessing import StandardScaler\n",
    "Scaler=StandardScaler()\n",
    "imputing_data_encoded_scaled=imputing_data_encoded.copy()\n",
    "imputing_data_encoded[numeric_cols] = Scaler.fit_transform(imputing_data_encoded[numeric_cols])"
   ]
  },
  {
   "cell_type": "code",
   "execution_count": 37,
   "id": "ba18ee60",
   "metadata": {
    "execution": {
     "iopub.execute_input": "2023-12-03T18:01:49.282851Z",
     "iopub.status.busy": "2023-12-03T18:01:49.282415Z",
     "iopub.status.idle": "2023-12-03T18:02:52.354574Z",
     "shell.execute_reply": "2023-12-03T18:02:52.353248Z"
    },
    "papermill": {
     "duration": 63.095233,
     "end_time": "2023-12-03T18:02:52.357572",
     "exception": false,
     "start_time": "2023-12-03T18:01:49.262339",
     "status": "completed"
    },
    "tags": []
   },
   "outputs": [],
   "source": [
    "imputing_data_encoded_scaled.to_csv(\"complete_data_2022_scaling_encoded\")"
   ]
  },
  {
   "cell_type": "code",
   "execution_count": null,
   "id": "106a222f",
   "metadata": {
    "papermill": {
     "duration": 0.017931,
     "end_time": "2023-12-03T18:02:52.394182",
     "exception": false,
     "start_time": "2023-12-03T18:02:52.376251",
     "status": "completed"
    },
    "tags": []
   },
   "outputs": [],
   "source": []
  }
 ],
 "metadata": {
  "kaggle": {
   "accelerator": "none",
   "dataSources": [
    {
     "datasetId": 199387,
     "sourceId": 5793796,
     "sourceType": "datasetVersion"
    }
   ],
   "dockerImageVersionId": 30587,
   "isGpuEnabled": false,
   "isInternetEnabled": false,
   "language": "python",
   "sourceType": "notebook"
  },
  "kernelspec": {
   "display_name": "Python 3",
   "language": "python",
   "name": "python3"
  },
  "language_info": {
   "codemirror_mode": {
    "name": "ipython",
    "version": 3
   },
   "file_extension": ".py",
   "mimetype": "text/x-python",
   "name": "python",
   "nbconvert_exporter": "python",
   "pygments_lexer": "ipython3",
   "version": "3.10.12"
  },
  "papermill": {
   "default_parameters": {},
   "duration": 332.990111,
   "end_time": "2023-12-03T18:02:55.237056",
   "environment_variables": {},
   "exception": null,
   "input_path": "__notebook__.ipynb",
   "output_path": "__notebook__.ipynb",
   "parameters": {},
   "start_time": "2023-12-03T17:57:22.246945",
   "version": "2.4.0"
  }
 },
 "nbformat": 4,
 "nbformat_minor": 5
}
