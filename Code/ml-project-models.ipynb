{
 "cells": [
  {
   "cell_type": "code",
   "execution_count": 1,
   "id": "c5673308",
   "metadata": {
    "execution": {
     "iopub.execute_input": "2023-11-26T19:04:30.085382Z",
     "iopub.status.busy": "2023-11-26T19:04:30.084932Z",
     "iopub.status.idle": "2023-11-26T19:04:55.703432Z",
     "shell.execute_reply": "2023-11-26T19:04:55.702035Z"
    },
    "papermill": {
     "duration": 25.633058,
     "end_time": "2023-11-26T19:04:55.706502",
     "exception": false,
     "start_time": "2023-11-26T19:04:30.073444",
     "status": "completed"
    },
    "tags": []
   },
   "outputs": [],
   "source": [
    "import pandas as pd\n",
    "df=pd.read_csv(\"/kaggle/input/data-to-run-models/complete_data_2022_scaling_encoded\")"
   ]
  },
  {
   "cell_type": "code",
   "execution_count": 2,
   "id": "dee66f80",
   "metadata": {
    "execution": {
     "iopub.execute_input": "2023-11-26T19:04:55.724388Z",
     "iopub.status.busy": "2023-11-26T19:04:55.723925Z",
     "iopub.status.idle": "2023-11-26T19:04:55.887879Z",
     "shell.execute_reply": "2023-11-26T19:04:55.886768Z"
    },
    "papermill": {
     "duration": 0.176263,
     "end_time": "2023-11-26T19:04:55.890928",
     "exception": false,
     "start_time": "2023-11-26T19:04:55.714665",
     "status": "completed"
    },
    "tags": []
   },
   "outputs": [],
   "source": [
    "df=df.drop('Unnamed: 0',axis=1)"
   ]
  },
  {
   "cell_type": "code",
   "execution_count": 3,
   "id": "62923c04",
   "metadata": {
    "execution": {
     "iopub.execute_input": "2023-11-26T19:04:55.908214Z",
     "iopub.status.busy": "2023-11-26T19:04:55.907829Z",
     "iopub.status.idle": "2023-11-26T19:04:55.917526Z",
     "shell.execute_reply": "2023-11-26T19:04:55.916547Z"
    },
    "papermill": {
     "duration": 0.021234,
     "end_time": "2023-11-26T19:04:55.919994",
     "exception": false,
     "start_time": "2023-11-26T19:04:55.898760",
     "status": "completed"
    },
    "tags": []
   },
   "outputs": [],
   "source": [
    "def move_column_to_end(df, column_name):\n",
    "    column = df.pop(column_name)\n",
    "    df[column_name] = column\n",
    "    return df\n",
    "\n",
    "df=move_column_to_end(df,\"Severity\")"
   ]
  },
  {
   "cell_type": "code",
   "execution_count": 4,
   "id": "2f7c13fe",
   "metadata": {
    "execution": {
     "iopub.execute_input": "2023-11-26T19:04:55.937916Z",
     "iopub.status.busy": "2023-11-26T19:04:55.937537Z",
     "iopub.status.idle": "2023-11-26T19:04:56.318795Z",
     "shell.execute_reply": "2023-11-26T19:04:56.317625Z"
    },
    "papermill": {
     "duration": 0.393159,
     "end_time": "2023-11-26T19:04:56.321495",
     "exception": false,
     "start_time": "2023-11-26T19:04:55.928336",
     "status": "completed"
    },
    "tags": []
   },
   "outputs": [],
   "source": [
    "severity_1 = df[df['Severity'] == 1].sample(n=10000, random_state=42)\n",
    "severity_2 = df[df['Severity'] == 2].sample(n=10000, random_state=42)\n",
    "severity_3 = df[df['Severity'] == 3].sample(n=10000, random_state=42)\n",
    "severity_4 = df[df['Severity'] == 4].sample(n=10000, random_state=42)\n",
    "\n",
    "\n",
    "selected_entries = pd.concat([severity_1, severity_2, severity_3, severity_4])"
   ]
  },
  {
   "cell_type": "code",
   "execution_count": 5,
   "id": "81d55623",
   "metadata": {
    "execution": {
     "iopub.execute_input": "2023-11-26T19:04:56.338810Z",
     "iopub.status.busy": "2023-11-26T19:04:56.338436Z",
     "iopub.status.idle": "2023-11-26T19:04:56.348574Z",
     "shell.execute_reply": "2023-11-26T19:04:56.347411Z"
    },
    "papermill": {
     "duration": 0.021831,
     "end_time": "2023-11-26T19:04:56.351104",
     "exception": false,
     "start_time": "2023-11-26T19:04:56.329273",
     "status": "completed"
    },
    "tags": []
   },
   "outputs": [],
   "source": [
    "X=selected_entries.iloc[:,:-1]\n",
    "y=selected_entries.iloc[:,-1]"
   ]
  },
  {
   "cell_type": "code",
   "execution_count": 6,
   "id": "e78f97b6",
   "metadata": {
    "execution": {
     "iopub.execute_input": "2023-11-26T19:04:56.368296Z",
     "iopub.status.busy": "2023-11-26T19:04:56.367882Z",
     "iopub.status.idle": "2023-11-26T19:04:56.378217Z",
     "shell.execute_reply": "2023-11-26T19:04:56.376648Z"
    },
    "papermill": {
     "duration": 0.021983,
     "end_time": "2023-11-26T19:04:56.380892",
     "exception": false,
     "start_time": "2023-11-26T19:04:56.358909",
     "status": "completed"
    },
    "tags": []
   },
   "outputs": [
    {
     "data": {
      "text/plain": [
       "Index(['Distance(mi)', 'Temperature(F)', 'Wind_Chill(F)', 'Humidity(%)',\n",
       "       'Pressure(in)', 'Visibility(mi)', 'Wind_Speed(mph)',\n",
       "       'Precipitation(in)', 'Year', 'Month', 'Day', 'Hour', 'Day_of_Week',\n",
       "       'Duration', 'State_AL', 'State_AR', 'State_AZ', 'State_CA', 'State_CO',\n",
       "       'State_CT', 'State_DC', 'State_DE', 'State_FL', 'State_GA', 'State_IA',\n",
       "       'State_ID', 'State_IL', 'State_IN', 'State_KS', 'State_KY', 'State_LA',\n",
       "       'State_MA', 'State_MD', 'State_ME', 'State_MI', 'State_MN', 'State_MO',\n",
       "       'State_MS', 'State_MT', 'State_NC', 'State_ND', 'State_NE', 'State_NH',\n",
       "       'State_NJ', 'State_NM', 'State_NV', 'State_NY', 'State_OH', 'State_OK',\n",
       "       'State_OR', 'State_PA', 'State_RI', 'State_SC', 'State_SD', 'State_TN',\n",
       "       'State_TX', 'State_UT', 'State_VA', 'State_VT', 'State_WA', 'State_WI',\n",
       "       'State_WV', 'State_WY', 'Wind_Direction_CALM', 'Wind_Direction_E',\n",
       "       'Wind_Direction_N', 'Wind_Direction_S', 'Wind_Direction_VAR',\n",
       "       'Wind_Direction_W', 'Weather_Condition_Clear',\n",
       "       'Weather_Condition_Cloud', 'Weather_Condition_Fog',\n",
       "       'Weather_Condition_Heavy Rain', 'Weather_Condition_Heavy Snow',\n",
       "       'Weather_Condition_Others', 'Weather_Condition_Rain',\n",
       "       'Weather_Condition_Snow', 'Weather_Condition_Windy',\n",
       "       'Sunrise_Sunset_Day', 'Sunrise_Sunset_Night', 'Day_Type_Weekday',\n",
       "       'Day_Type_Weekend', 'Season_Autumn', 'Season_Spring', 'Season_Summer',\n",
       "       'Season_Winter', 'Time_Of_Day_Afternoon', 'Time_Of_Day_Evening',\n",
       "       'Time_Of_Day_Morning', 'Time_Of_Day_Night'],\n",
       "      dtype='object')"
      ]
     },
     "execution_count": 6,
     "metadata": {},
     "output_type": "execute_result"
    }
   ],
   "source": [
    "X.columns"
   ]
  },
  {
   "cell_type": "code",
   "execution_count": 7,
   "id": "15b78fd7",
   "metadata": {
    "execution": {
     "iopub.execute_input": "2023-11-26T19:04:56.399403Z",
     "iopub.status.busy": "2023-11-26T19:04:56.398916Z",
     "iopub.status.idle": "2023-11-26T19:04:57.692461Z",
     "shell.execute_reply": "2023-11-26T19:04:57.691304Z"
    },
    "papermill": {
     "duration": 1.306204,
     "end_time": "2023-11-26T19:04:57.695356",
     "exception": false,
     "start_time": "2023-11-26T19:04:56.389152",
     "status": "completed"
    },
    "tags": []
   },
   "outputs": [],
   "source": [
    "from sklearn.model_selection import train_test_split\n",
    "\n",
    "X_train, X_test, y_train, y_test = train_test_split(X,y,test_size=0.2,random_state=100)"
   ]
  },
  {
   "cell_type": "code",
   "execution_count": 8,
   "id": "b5507c92",
   "metadata": {
    "execution": {
     "iopub.execute_input": "2023-11-26T19:04:57.713157Z",
     "iopub.status.busy": "2023-11-26T19:04:57.712762Z",
     "iopub.status.idle": "2023-11-26T19:04:57.719804Z",
     "shell.execute_reply": "2023-11-26T19:04:57.718657Z"
    },
    "papermill": {
     "duration": 0.019098,
     "end_time": "2023-11-26T19:04:57.722455",
     "exception": false,
     "start_time": "2023-11-26T19:04:57.703357",
     "status": "completed"
    },
    "tags": []
   },
   "outputs": [
    {
     "data": {
      "text/plain": [
       "(32000, 90)"
      ]
     },
     "execution_count": 8,
     "metadata": {},
     "output_type": "execute_result"
    }
   ],
   "source": [
    "X_train.shape"
   ]
  },
  {
   "cell_type": "code",
   "execution_count": 9,
   "id": "b5db4d86",
   "metadata": {
    "execution": {
     "iopub.execute_input": "2023-11-26T19:04:57.740330Z",
     "iopub.status.busy": "2023-11-26T19:04:57.739902Z",
     "iopub.status.idle": "2023-11-26T19:04:57.746411Z",
     "shell.execute_reply": "2023-11-26T19:04:57.745603Z"
    },
    "papermill": {
     "duration": 0.017926,
     "end_time": "2023-11-26T19:04:57.748480",
     "exception": false,
     "start_time": "2023-11-26T19:04:57.730554",
     "status": "completed"
    },
    "tags": []
   },
   "outputs": [
    {
     "data": {
      "text/plain": [
       "(8000, 90)"
      ]
     },
     "execution_count": 9,
     "metadata": {},
     "output_type": "execute_result"
    }
   ],
   "source": [
    "X_test.shape"
   ]
  },
  {
   "cell_type": "code",
   "execution_count": 10,
   "id": "c9cd332b",
   "metadata": {
    "execution": {
     "iopub.execute_input": "2023-11-26T19:04:57.767101Z",
     "iopub.status.busy": "2023-11-26T19:04:57.766480Z",
     "iopub.status.idle": "2023-11-26T19:04:57.777757Z",
     "shell.execute_reply": "2023-11-26T19:04:57.776568Z"
    },
    "papermill": {
     "duration": 0.023643,
     "end_time": "2023-11-26T19:04:57.780364",
     "exception": false,
     "start_time": "2023-11-26T19:04:57.756721",
     "status": "completed"
    },
    "tags": []
   },
   "outputs": [
    {
     "data": {
      "text/plain": [
       "Severity\n",
       "1    10000\n",
       "2    10000\n",
       "3    10000\n",
       "4    10000\n",
       "Name: count, dtype: int64"
      ]
     },
     "execution_count": 10,
     "metadata": {},
     "output_type": "execute_result"
    }
   ],
   "source": [
    "y.value_counts()"
   ]
  },
  {
   "cell_type": "code",
   "execution_count": 11,
   "id": "bd764b67",
   "metadata": {
    "execution": {
     "iopub.execute_input": "2023-11-26T19:04:57.800135Z",
     "iopub.status.busy": "2023-11-26T19:04:57.799196Z",
     "iopub.status.idle": "2023-11-26T19:05:01.542835Z",
     "shell.execute_reply": "2023-11-26T19:05:01.541387Z"
    },
    "papermill": {
     "duration": 3.760097,
     "end_time": "2023-11-26T19:05:01.549046",
     "exception": false,
     "start_time": "2023-11-26T19:04:57.788949",
     "status": "completed"
    },
    "tags": []
   },
   "outputs": [
    {
     "name": "stdout",
     "output_type": "stream",
     "text": [
      "Train Accuracy: 0.53\n",
      "Test Accuracy: 0.52\n",
      "              precision    recall  f1-score   support\n",
      "\n",
      "           1       0.52      0.67      0.59      2010\n",
      "           2       0.43      0.37      0.40      1975\n",
      "           3       0.54      0.53      0.54      2000\n",
      "           4       0.56      0.49      0.52      2015\n",
      "\n",
      "    accuracy                           0.52      8000\n",
      "   macro avg       0.52      0.52      0.51      8000\n",
      "weighted avg       0.52      0.52      0.51      8000\n",
      "\n"
     ]
    },
    {
     "name": "stderr",
     "output_type": "stream",
     "text": [
      "/opt/conda/lib/python3.10/site-packages/sklearn/linear_model/_logistic.py:458: ConvergenceWarning: lbfgs failed to converge (status=1):\n",
      "STOP: TOTAL NO. of ITERATIONS REACHED LIMIT.\n",
      "\n",
      "Increase the number of iterations (max_iter) or scale the data as shown in:\n",
      "    https://scikit-learn.org/stable/modules/preprocessing.html\n",
      "Please also refer to the documentation for alternative solver options:\n",
      "    https://scikit-learn.org/stable/modules/linear_model.html#logistic-regression\n",
      "  n_iter_i = _check_optimize_result(\n"
     ]
    }
   ],
   "source": [
    "from sklearn.linear_model import LogisticRegression\n",
    "from sklearn.metrics import accuracy_score\n",
    "\n",
    "Log_reg=LogisticRegression()\n",
    "Log_reg.fit(X_train,y_train)\n",
    "\n",
    "\n",
    "y_pred_log=Log_reg.predict(X_test)\n",
    "\n",
    "y_pred_train_log = Log_reg.predict(X_train)\n",
    "\n",
    "\n",
    "y_pred_test_log = Log_reg.predict(X_test)\n",
    "\n",
    "\n",
    "accuracy_train = accuracy_score(y_train, y_pred_train_log)\n",
    "accuracy_test = accuracy_score(y_test, y_pred_test_log)\n",
    "\n",
    "\n",
    "print(f'Train Accuracy: {accuracy_train:.2f}')\n",
    "print(f'Test Accuracy: {accuracy_test:.2f}')\n",
    "from sklearn.metrics import classification_report\n",
    "\n",
    "class_rep_log=classification_report(y_test,y_pred_test_log)\n",
    "print(class_rep_log)"
   ]
  },
  {
   "cell_type": "code",
   "execution_count": 12,
   "id": "6f46bf45",
   "metadata": {
    "execution": {
     "iopub.execute_input": "2023-11-26T19:05:01.589646Z",
     "iopub.status.busy": "2023-11-26T19:05:01.588908Z",
     "iopub.status.idle": "2023-11-26T19:05:02.582205Z",
     "shell.execute_reply": "2023-11-26T19:05:02.580972Z"
    },
    "papermill": {
     "duration": 1.017186,
     "end_time": "2023-11-26T19:05:02.584829",
     "exception": false,
     "start_time": "2023-11-26T19:05:01.567643",
     "status": "completed"
    },
    "tags": []
   },
   "outputs": [
    {
     "name": "stdout",
     "output_type": "stream",
     "text": [
      "Train Accuracy: 1.00\n",
      "Test Accuracy: 0.74\n",
      "              precision    recall  f1-score   support\n",
      "\n",
      "           1       0.82      0.82      0.82      2010\n",
      "           2       0.65      0.67      0.66      1975\n",
      "           3       0.75      0.73      0.74      2000\n",
      "           4       0.74      0.72      0.73      2015\n",
      "\n",
      "    accuracy                           0.74      8000\n",
      "   macro avg       0.74      0.74      0.74      8000\n",
      "weighted avg       0.74      0.74      0.74      8000\n",
      "\n"
     ]
    }
   ],
   "source": [
    "\n",
    "\n",
    "from sklearn.tree import DecisionTreeClassifier\n",
    "dt= DecisionTreeClassifier()\n",
    "\n",
    "dt.fit(X_train,y_train)\n",
    "y_pred_test_dt=dt.predict(X_test)\n",
    "y_pred_train_dt=dt.predict(X_train)\n",
    "accuracy_train = accuracy_score(y_train, y_pred_train_dt)\n",
    "accuracy_test = accuracy_score(y_test, y_pred_test_dt)\n",
    "\n",
    "\n",
    "print(f'Train Accuracy: {accuracy_train:.2f}')\n",
    "print(f'Test Accuracy: {accuracy_test:.2f}')\n",
    "\n",
    "class_rep_dt=classification_report(y_test,y_pred_test_dt)\n",
    "print(class_rep_dt)"
   ]
  },
  {
   "cell_type": "code",
   "execution_count": 13,
   "id": "51d35a55",
   "metadata": {
    "execution": {
     "iopub.execute_input": "2023-11-26T19:05:02.604391Z",
     "iopub.status.busy": "2023-11-26T19:05:02.603957Z",
     "iopub.status.idle": "2023-11-26T19:05:12.528372Z",
     "shell.execute_reply": "2023-11-26T19:05:12.527067Z"
    },
    "papermill": {
     "duration": 9.937339,
     "end_time": "2023-11-26T19:05:12.531001",
     "exception": false,
     "start_time": "2023-11-26T19:05:02.593662",
     "status": "completed"
    },
    "tags": []
   },
   "outputs": [
    {
     "name": "stdout",
     "output_type": "stream",
     "text": [
      "Train Accuracy: 1.00\n",
      "Test Accuracy: 0.79\n",
      "              precision    recall  f1-score   support\n",
      "\n",
      "           1       0.81      0.92      0.86      2010\n",
      "           2       0.77      0.64      0.70      1975\n",
      "           3       0.81      0.77      0.79      2000\n",
      "           4       0.76      0.82      0.79      2015\n",
      "\n",
      "    accuracy                           0.79      8000\n",
      "   macro avg       0.79      0.79      0.79      8000\n",
      "weighted avg       0.79      0.79      0.79      8000\n",
      "\n"
     ]
    }
   ],
   "source": [
    "from sklearn.ensemble import RandomForestClassifier\n",
    "rf= RandomForestClassifier()\n",
    "rf.fit(X_train,y_train)\n",
    "\n",
    "\n",
    "y_pred_test_rf=rf.predict(X_test)\n",
    "y_pred_train_rf=rf.predict(X_train)\n",
    "accuracy_train = accuracy_score(y_train, y_pred_train_rf)\n",
    "accuracy_test = accuracy_score(y_test, y_pred_test_rf)\n",
    "print(f'Train Accuracy: {accuracy_train:.2f}')\n",
    "print(f'Test Accuracy: {accuracy_test:.2f}')\n",
    "class_rep_rf=classification_report(y_test,y_pred_test_rf)\n",
    "print(class_rep_rf)"
   ]
  },
  {
   "cell_type": "code",
   "execution_count": 14,
   "id": "78e8d49f",
   "metadata": {
    "execution": {
     "iopub.execute_input": "2023-11-26T19:05:12.550939Z",
     "iopub.status.busy": "2023-11-26T19:05:12.550500Z",
     "iopub.status.idle": "2023-11-26T19:05:12.785571Z",
     "shell.execute_reply": "2023-11-26T19:05:12.784194Z"
    },
    "papermill": {
     "duration": 0.248563,
     "end_time": "2023-11-26T19:05:12.788580",
     "exception": false,
     "start_time": "2023-11-26T19:05:12.540017",
     "status": "completed"
    },
    "tags": []
   },
   "outputs": [
    {
     "name": "stdout",
     "output_type": "stream",
     "text": [
      "Train Accuracy: 0.49\n",
      "Test Accuracy: 0.48\n",
      "              precision    recall  f1-score   support\n",
      "\n",
      "           1       0.50      0.95      0.65      2010\n",
      "           2       0.63      0.19      0.29      1975\n",
      "           3       0.36      0.51      0.43      2000\n",
      "           4       0.70      0.25      0.37      2015\n",
      "\n",
      "    accuracy                           0.48      8000\n",
      "   macro avg       0.55      0.48      0.44      8000\n",
      "weighted avg       0.55      0.48      0.44      8000\n",
      "\n"
     ]
    }
   ],
   "source": [
    "from sklearn.naive_bayes import GaussianNB\n",
    "\n",
    "nb=GaussianNB()\n",
    "nb.fit(X_train,y_train)\n",
    "y_pred_test_nb=nb.predict(X_test)\n",
    "y_pred_train_nb=nb.predict(X_train)\n",
    "accuracy_train = accuracy_score(y_train, y_pred_train_nb)\n",
    "accuracy_test = accuracy_score(y_test, y_pred_test_nb)\n",
    "print(f'Train Accuracy: {accuracy_train:.2f}')\n",
    "print(f'Test Accuracy: {accuracy_test:.2f}')\n",
    "class_rep_nb=classification_report(y_test,y_pred_test_nb)\n",
    "print(class_rep_nb)"
   ]
  },
  {
   "cell_type": "code",
   "execution_count": 15,
   "id": "e1c06170",
   "metadata": {
    "execution": {
     "iopub.execute_input": "2023-11-26T19:05:12.808706Z",
     "iopub.status.busy": "2023-11-26T19:05:12.808233Z",
     "iopub.status.idle": "2023-11-26T19:12:01.296156Z",
     "shell.execute_reply": "2023-11-26T19:12:01.294956Z"
    },
    "papermill": {
     "duration": 408.510469,
     "end_time": "2023-11-26T19:12:01.308181",
     "exception": false,
     "start_time": "2023-11-26T19:05:12.797712",
     "status": "completed"
    },
    "tags": []
   },
   "outputs": [
    {
     "name": "stdout",
     "output_type": "stream",
     "text": [
      "Train Accuracy: 0.33\n",
      "Test Accuracy: 0.32\n",
      "              precision    recall  f1-score   support\n",
      "\n",
      "           1       0.07      0.00      0.00      2010\n",
      "           2       0.38      0.25      0.30      1975\n",
      "           3       0.31      0.99      0.47      2000\n",
      "           4       0.67      0.06      0.11      2015\n",
      "\n",
      "    accuracy                           0.32      8000\n",
      "   macro avg       0.36      0.32      0.22      8000\n",
      "weighted avg       0.36      0.32      0.22      8000\n",
      "\n"
     ]
    }
   ],
   "source": [
    "from sklearn.svm import SVC\n",
    "svm_model = SVC()\n",
    "svm_model.fit(X_train, y_train)\n",
    "y_pred_test_svm=svm_model.predict(X_test)\n",
    "y_pred_train_svm=svm_model.predict(X_train)\n",
    "accuracy_train = accuracy_score(y_train, y_pred_train_svm)\n",
    "accuracy_test = accuracy_score(y_test, y_pred_test_svm)\n",
    "print(f'Train Accuracy: {accuracy_train:.2f}')\n",
    "print(f'Test Accuracy: {accuracy_test:.2f}')\n",
    "class_rep_svm=classification_report(y_test,y_pred_test_svm)\n",
    "print(class_rep_svm)"
   ]
  },
  {
   "cell_type": "code",
   "execution_count": 16,
   "id": "93febe1c",
   "metadata": {
    "execution": {
     "iopub.execute_input": "2023-11-26T19:12:01.329365Z",
     "iopub.status.busy": "2023-11-26T19:12:01.328901Z",
     "iopub.status.idle": "2023-11-26T19:12:09.752389Z",
     "shell.execute_reply": "2023-11-26T19:12:09.750794Z"
    },
    "papermill": {
     "duration": 8.437292,
     "end_time": "2023-11-26T19:12:09.754979",
     "exception": false,
     "start_time": "2023-11-26T19:12:01.317687",
     "status": "completed"
    },
    "tags": []
   },
   "outputs": [
    {
     "name": "stdout",
     "output_type": "stream",
     "text": [
      "Train Accuracy: 0.71\n",
      "Test Accuracy: 0.58\n",
      "              precision    recall  f1-score   support\n",
      "\n",
      "           1       0.61      0.77      0.68      2010\n",
      "           2       0.48      0.43      0.45      1975\n",
      "           3       0.62      0.56      0.59      2000\n",
      "           4       0.59      0.55      0.57      2015\n",
      "\n",
      "    accuracy                           0.58      8000\n",
      "   macro avg       0.57      0.58      0.57      8000\n",
      "weighted avg       0.57      0.58      0.57      8000\n",
      "\n"
     ]
    }
   ],
   "source": [
    "from sklearn.neighbors import KNeighborsClassifier\n",
    "knn_model = KNeighborsClassifier() \n",
    "knn_model.fit(X_train, y_train)\n",
    "y_pred_test_knn=knn_model.predict(X_test)\n",
    "y_pred_train_knn=knn_model.predict(X_train)\n",
    "accuracy_train = accuracy_score(y_train, y_pred_train_knn)\n",
    "accuracy_test = accuracy_score(y_test, y_pred_test_knn)\n",
    "print(f'Train Accuracy: {accuracy_train:.2f}')\n",
    "print(f'Test Accuracy: {accuracy_test:.2f}')\n",
    "class_rep_knn=classification_report(y_test,y_pred_test_knn)\n",
    "print(class_rep_knn)"
   ]
  },
  {
   "cell_type": "code",
   "execution_count": 17,
   "id": "468447eb",
   "metadata": {
    "execution": {
     "iopub.execute_input": "2023-11-26T19:12:09.775371Z",
     "iopub.status.busy": "2023-11-26T19:12:09.774920Z",
     "iopub.status.idle": "2023-11-26T19:12:13.343451Z",
     "shell.execute_reply": "2023-11-26T19:12:13.342336Z"
    },
    "papermill": {
     "duration": 3.582982,
     "end_time": "2023-11-26T19:12:13.347181",
     "exception": false,
     "start_time": "2023-11-26T19:12:09.764199",
     "status": "completed"
    },
    "tags": []
   },
   "outputs": [
    {
     "name": "stdout",
     "output_type": "stream",
     "text": [
      "Train Accuracy: 0.70\n",
      "Test Accuracy: 0.69\n",
      "              precision    recall  f1-score   support\n",
      "\n",
      "           1       0.75      0.85      0.80      2010\n",
      "           2       0.60      0.51      0.55      1975\n",
      "           3       0.74      0.67      0.70      2000\n",
      "           4       0.64      0.71      0.67      2015\n",
      "\n",
      "    accuracy                           0.69      8000\n",
      "   macro avg       0.68      0.69      0.68      8000\n",
      "weighted avg       0.68      0.69      0.68      8000\n",
      "\n"
     ]
    }
   ],
   "source": [
    "from sklearn.ensemble import AdaBoostClassifier\n",
    "adaboost_model = AdaBoostClassifier()  \n",
    "adaboost_model.fit(X_train, y_train)\n",
    "y_pred_test_ada=adaboost_model.predict(X_test)\n",
    "y_pred_train_ada=adaboost_model.predict(X_train)\n",
    "accuracy_train = accuracy_score(y_train, y_pred_train_ada)\n",
    "accuracy_test = accuracy_score(y_test, y_pred_test_ada)\n",
    "print(f'Train Accuracy: {accuracy_train:.2f}')\n",
    "print(f'Test Accuracy: {accuracy_test:.2f}')\n",
    "class_rep_ada=classification_report(y_test,y_pred_test_ada)\n",
    "print(class_rep_ada)"
   ]
  },
  {
   "cell_type": "code",
   "execution_count": 18,
   "id": "f8cf441f",
   "metadata": {
    "execution": {
     "iopub.execute_input": "2023-11-26T19:12:13.368008Z",
     "iopub.status.busy": "2023-11-26T19:12:13.367623Z",
     "iopub.status.idle": "2023-11-26T19:12:54.945112Z",
     "shell.execute_reply": "2023-11-26T19:12:54.943861Z"
    },
    "papermill": {
     "duration": 41.600402,
     "end_time": "2023-11-26T19:12:54.956946",
     "exception": false,
     "start_time": "2023-11-26T19:12:13.356544",
     "status": "completed"
    },
    "tags": []
   },
   "outputs": [
    {
     "name": "stdout",
     "output_type": "stream",
     "text": [
      "Train Accuracy: 0.79\n",
      "Test Accuracy: 0.79\n",
      "              precision    recall  f1-score   support\n",
      "\n",
      "           1       0.82      0.89      0.85      2010\n",
      "           2       0.78      0.64      0.70      1975\n",
      "           3       0.79      0.77      0.78      2000\n",
      "           4       0.76      0.84      0.80      2015\n",
      "\n",
      "    accuracy                           0.79      8000\n",
      "   macro avg       0.79      0.79      0.78      8000\n",
      "weighted avg       0.79      0.79      0.78      8000\n",
      "\n"
     ]
    }
   ],
   "source": [
    "from sklearn.ensemble import GradientBoostingClassifier\n",
    "gradient_boost_model = GradientBoostingClassifier()  \n",
    "gradient_boost_model.fit(X_train, y_train)\n",
    "\n",
    "y_pred_test_gb=gradient_boost_model.predict(X_test)\n",
    "y_pred_train_gb=gradient_boost_model.predict(X_train)\n",
    "accuracy_train = accuracy_score(y_train, y_pred_train_gb)\n",
    "accuracy_test = accuracy_score(y_test, y_pred_test_gb)\n",
    "print(f'Train Accuracy: {accuracy_train:.2f}')\n",
    "print(f'Test Accuracy: {accuracy_test:.2f}')\n",
    "class_rep_gb=classification_report(y_test,y_pred_test_gb)\n",
    "print(class_rep_gb)"
   ]
  },
  {
   "cell_type": "code",
   "execution_count": 19,
   "id": "001d6217",
   "metadata": {
    "execution": {
     "iopub.execute_input": "2023-11-26T19:12:54.978543Z",
     "iopub.status.busy": "2023-11-26T19:12:54.978105Z",
     "iopub.status.idle": "2023-11-26T19:13:03.218351Z",
     "shell.execute_reply": "2023-11-26T19:13:03.217220Z"
    },
    "papermill": {
     "duration": 8.256123,
     "end_time": "2023-11-26T19:13:03.222898",
     "exception": false,
     "start_time": "2023-11-26T19:12:54.966775",
     "status": "completed"
    },
    "tags": []
   },
   "outputs": [
    {
     "name": "stdout",
     "output_type": "stream",
     "text": [
      "Train Accuracy: 0.60\n",
      "Test Accuracy: 0.59\n",
      "              precision    recall  f1-score   support\n",
      "\n",
      "           1       0.84      0.47      0.60      2010\n",
      "           2       0.70      0.16      0.26      1975\n",
      "           3       0.51      0.87      0.64      2000\n",
      "           4       0.57      0.87      0.69      2015\n",
      "\n",
      "    accuracy                           0.59      8000\n",
      "   macro avg       0.66      0.59      0.55      8000\n",
      "weighted avg       0.66      0.59      0.55      8000\n",
      "\n"
     ]
    }
   ],
   "source": [
    "from sklearn.neural_network import MLPClassifier\n",
    "mlp_model = MLPClassifier()  \n",
    "mlp_model.fit(X_train, y_train)\n",
    "\n",
    "\n",
    "y_pred_test_mlp=mlp_model.predict(X_test)\n",
    "y_pred_train_mlp=mlp_model.predict(X_train)\n",
    "accuracy_train = accuracy_score(y_train, y_pred_train_mlp)\n",
    "accuracy_test = accuracy_score(y_test, y_pred_test_mlp)\n",
    "print(f'Train Accuracy: {accuracy_train:.2f}')\n",
    "print(f'Test Accuracy: {accuracy_test:.2f}')\n",
    "class_rep_mlp=classification_report(y_test,y_pred_test_mlp)\n",
    "print(class_rep_mlp)"
   ]
  },
  {
   "cell_type": "code",
   "execution_count": 20,
   "id": "9dd6d101",
   "metadata": {
    "execution": {
     "iopub.execute_input": "2023-11-26T19:13:03.266741Z",
     "iopub.status.busy": "2023-11-26T19:13:03.266012Z",
     "iopub.status.idle": "2023-11-26T19:13:04.007680Z",
     "shell.execute_reply": "2023-11-26T19:13:04.006020Z"
    },
    "papermill": {
     "duration": 0.768601,
     "end_time": "2023-11-26T19:13:04.012718",
     "exception": false,
     "start_time": "2023-11-26T19:13:03.244117",
     "status": "completed"
    },
    "tags": []
   },
   "outputs": [
    {
     "name": "stdout",
     "output_type": "stream",
     "text": [
      "Train Accuracy (LDA): 0.59\n",
      "Test Accuracy (LDA): 0.59\n",
      "              precision    recall  f1-score   support\n",
      "\n",
      "           1       0.66      0.77      0.71      2010\n",
      "           2       0.56      0.44      0.50      1975\n",
      "           3       0.52      0.57      0.55      2000\n",
      "           4       0.61      0.58      0.59      2015\n",
      "\n",
      "    accuracy                           0.59      8000\n",
      "   macro avg       0.59      0.59      0.59      8000\n",
      "weighted avg       0.59      0.59      0.59      8000\n",
      "\n"
     ]
    }
   ],
   "source": [
    "from sklearn.discriminant_analysis import LinearDiscriminantAnalysis\n",
    "lda_model = LinearDiscriminantAnalysis()\n",
    "lda_model.fit(X_train, y_train)\n",
    "\n",
    "\n",
    "y_pred_train_lda = lda_model.predict(X_train)\n",
    "\n",
    "\n",
    "y_pred_test_lda = lda_model.predict(X_test)\n",
    "\n",
    "\n",
    "accuracy_train_lda = accuracy_score(y_train, y_pred_train_lda)\n",
    "accuracy_test_lda = accuracy_score(y_test, y_pred_test_lda)\n",
    "\n",
    "\n",
    "print(f'Train Accuracy (LDA): {accuracy_train_lda:.2f}')\n",
    "print(f'Test Accuracy (LDA): {accuracy_test_lda:.2f}')\n",
    "\n",
    "\n",
    "class_rep_lda = classification_report(y_test, y_pred_test_lda)\n",
    "print(class_rep_lda)"
   ]
  },
  {
   "cell_type": "code",
   "execution_count": 21,
   "id": "e4787a43",
   "metadata": {
    "execution": {
     "iopub.execute_input": "2023-11-26T19:13:04.047223Z",
     "iopub.status.busy": "2023-11-26T19:13:04.046828Z",
     "iopub.status.idle": "2023-11-26T19:13:04.641298Z",
     "shell.execute_reply": "2023-11-26T19:13:04.640062Z"
    },
    "papermill": {
     "duration": 0.613069,
     "end_time": "2023-11-26T19:13:04.645662",
     "exception": false,
     "start_time": "2023-11-26T19:13:04.032593",
     "status": "completed"
    },
    "tags": []
   },
   "outputs": [
    {
     "name": "stderr",
     "output_type": "stream",
     "text": [
      "/opt/conda/lib/python3.10/site-packages/sklearn/discriminant_analysis.py:926: UserWarning: Variables are collinear\n",
      "  warnings.warn(\"Variables are collinear\")\n"
     ]
    },
    {
     "name": "stdout",
     "output_type": "stream",
     "text": [
      "Train Accuracy (QDA): 0.45\n",
      "Test Accuracy (QDA): 0.45\n",
      "              precision    recall  f1-score   support\n",
      "\n",
      "           1       0.43      0.98      0.59      2010\n",
      "           2       0.68      0.06      0.10      1975\n",
      "           3       0.41      0.44      0.43      2000\n",
      "           4       0.58      0.30      0.39      2015\n",
      "\n",
      "    accuracy                           0.45      8000\n",
      "   macro avg       0.52      0.44      0.38      8000\n",
      "weighted avg       0.52      0.45      0.38      8000\n",
      "\n"
     ]
    }
   ],
   "source": [
    "from sklearn.discriminant_analysis import QuadraticDiscriminantAnalysis\n",
    "qda_model = QuadraticDiscriminantAnalysis()\n",
    "qda_model.fit(X_train, y_train)\n",
    "\n",
    "\n",
    "y_pred_train_qda = qda_model.predict(X_train)\n",
    "\n",
    "\n",
    "y_pred_test_qda = qda_model.predict(X_test)\n",
    "\n",
    "\n",
    "accuracy_train_qda = accuracy_score(y_train, y_pred_train_qda)\n",
    "accuracy_test_qda = accuracy_score(y_test, y_pred_test_qda)\n",
    "\n",
    "\n",
    "print(f'Train Accuracy (QDA): {accuracy_train_qda:.2f}')\n",
    "print(f'Test Accuracy (QDA): {accuracy_test_qda:.2f}')\n",
    "\n",
    "class_rep_qda = classification_report(y_test, y_pred_test_qda)\n",
    "print(class_rep_qda)"
   ]
  },
  {
   "cell_type": "code",
   "execution_count": null,
   "id": "00d9930c",
   "metadata": {
    "papermill": {
     "duration": 0.020224,
     "end_time": "2023-11-26T19:13:04.686846",
     "exception": false,
     "start_time": "2023-11-26T19:13:04.666622",
     "status": "completed"
    },
    "tags": []
   },
   "outputs": [],
   "source": []
  }
 ],
 "metadata": {
  "kaggle": {
   "accelerator": "none",
   "dataSources": [
    {
     "datasetId": 4063616,
     "sourceId": 7058995,
     "sourceType": "datasetVersion"
    }
   ],
   "dockerImageVersionId": 30587,
   "isGpuEnabled": false,
   "isInternetEnabled": false,
   "language": "python",
   "sourceType": "notebook"
  },
  "kernelspec": {
   "display_name": "Python 3",
   "language": "python",
   "name": "python3"
  },
  "language_info": {
   "codemirror_mode": {
    "name": "ipython",
    "version": 3
   },
   "file_extension": ".py",
   "mimetype": "text/x-python",
   "name": "python",
   "nbconvert_exporter": "python",
   "pygments_lexer": "ipython3",
   "version": "3.10.12"
  },
  "papermill": {
   "default_parameters": {},
   "duration": 518.933442,
   "end_time": "2023-11-26T19:13:05.430881",
   "environment_variables": {},
   "exception": null,
   "input_path": "__notebook__.ipynb",
   "output_path": "__notebook__.ipynb",
   "parameters": {},
   "start_time": "2023-11-26T19:04:26.497439",
   "version": "2.4.0"
  }
 },
 "nbformat": 4,
 "nbformat_minor": 5
}
